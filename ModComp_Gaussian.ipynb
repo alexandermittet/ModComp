{
 "cells": [
  {
   "attachments": {},
   "cell_type": "markdown",
   "metadata": {},
   "source": [
    "ModComp Notebook!"
   ]
  },
  {
   "cell_type": "code",
   "execution_count": 1,
   "metadata": {},
   "outputs": [
    {
     "ename": "FileNotFoundError",
     "evalue": "[Errno 2] No such file or directory: 'graph.npy'",
     "output_type": "error",
     "traceback": [
      "\u001b[0;31m---------------------------------------------------------------------------\u001b[0m",
      "\u001b[0;31mFileNotFoundError\u001b[0m                         Traceback (most recent call last)",
      "Cell \u001b[0;32mIn [1], line 5\u001b[0m\n\u001b[1;32m      2\u001b[0m \u001b[39mfrom\u001b[39;00m \u001b[39msklearn\u001b[39;00m\u001b[39m.\u001b[39;00m\u001b[39mpreprocessing\u001b[39;00m \u001b[39mimport\u001b[39;00m KBinsDiscretizer\n\u001b[1;32m      4\u001b[0m \u001b[39m# Load the graph and time values\u001b[39;00m\n\u001b[0;32m----> 5\u001b[0m graph \u001b[39m=\u001b[39m np\u001b[39m.\u001b[39;49mload(\u001b[39m'\u001b[39;49m\u001b[39mgraph.npy\u001b[39;49m\u001b[39m'\u001b[39;49m)\n\u001b[1;32m      6\u001b[0m times \u001b[39m=\u001b[39m np\u001b[39m.\u001b[39mload(\u001b[39m'\u001b[39m\u001b[39mtimes.npy\u001b[39m\u001b[39m'\u001b[39m)\n\u001b[1;32m      8\u001b[0m \u001b[39m# Define the parameters of the model\u001b[39;00m\n",
      "File \u001b[0;32m/Library/Frameworks/Python.framework/Versions/3.11/lib/python3.11/site-packages/numpy/lib/npyio.py:405\u001b[0m, in \u001b[0;36mload\u001b[0;34m(file, mmap_mode, allow_pickle, fix_imports, encoding, max_header_size)\u001b[0m\n\u001b[1;32m    403\u001b[0m     own_fid \u001b[39m=\u001b[39m \u001b[39mFalse\u001b[39;00m\n\u001b[1;32m    404\u001b[0m \u001b[39melse\u001b[39;00m:\n\u001b[0;32m--> 405\u001b[0m     fid \u001b[39m=\u001b[39m stack\u001b[39m.\u001b[39menter_context(\u001b[39mopen\u001b[39;49m(os_fspath(file), \u001b[39m\"\u001b[39;49m\u001b[39mrb\u001b[39;49m\u001b[39m\"\u001b[39;49m))\n\u001b[1;32m    406\u001b[0m     own_fid \u001b[39m=\u001b[39m \u001b[39mTrue\u001b[39;00m\n\u001b[1;32m    408\u001b[0m \u001b[39m# Code to distinguish from NumPy binary files and pickles.\u001b[39;00m\n",
      "\u001b[0;31mFileNotFoundError\u001b[0m: [Errno 2] No such file or directory: 'graph.npy'"
     ]
    }
   ],
   "source": [
    "import numpy as np\n",
    "from sklearn.preprocessing import KBinsDiscretizer\n",
    "\n",
    "# Load the graph and time values\n",
    "graph = #data\n",
    "times = #data\n",
    "\n",
    "# Define the parameters of the model\n",
    "alpha_0 = 0\n",
    "alpha = 0\n",
    "beta = 1\n",
    "sigma_0_sq = 1\n",
    "sigma_sq = 1\n",
    "\n",
    "# Set the number of iterations for the simulation\n",
    "num_iters = 1000\n",
    "\n",
    "# Initialize the variables for the simulation\n",
    "samples = np.zeros((num_iters, len(graph)))\n",
    "z0 = np.random.normal(alpha_0, np.sqrt(sigma_0_sq))\n",
    "samples[0, 0] = z0\n",
    "\n",
    "# Traverse the graph in a topological order and generate samples\n",
    "for i in range(1, len(graph)):\n",
    "    parent = int(graph[i])\n",
    "    if parent == 0:\n",
    "        # This is a root node, sample from P(Z_0)\n",
    "        samples[:, i] = np.random.normal(alpha_0, np.sqrt(sigma_0_sq), size=num_iters)\n",
    "    elif i == len(graph) - 1:\n",
    "        # This is a leaf node, sample from P(X_i | Z_i)\n",
    "        t = times[i]\n",
    "        z = samples[:, parent]\n",
    "        samples[:, i] = np.random.normal(alpha * t + beta * z, np.sqrt(sigma_sq * t))\n",
    "    else:\n",
    "        # This is a non-root non-leaf node, sample from P(Z_i | Z_parent)\n",
    "        t = times[i]\n",
    "        z_parent = samples[:, parent]\n",
    "        samples[:, i] = np.random.normal(alpha * t + beta * z_parent, np.sqrt(sigma_sq * t))\n",
    "\n",
    "# Discretize the samples for visualization\n",
    "discretizer = KBinsDiscretizer(n_bins=10, encode='ordinal', strategy='uniform')\n",
    "discretized_samples = discretizer.fit_transform(samples)\n"
   ]
  },
  {
   "cell_type": "code",
   "execution_count": null,
   "metadata": {},
   "outputs": [],
   "source": []
  }
 ],
 "metadata": {
  "kernelspec": {
   "display_name": "Python 3",
   "language": "python",
   "name": "python3"
  },
  "language_info": {
   "codemirror_mode": {
    "name": "ipython",
    "version": 3
   },
   "file_extension": ".py",
   "mimetype": "text/x-python",
   "name": "python",
   "nbconvert_exporter": "python",
   "pygments_lexer": "ipython3",
   "version": "3.11.0"
  },
  "orig_nbformat": 4,
  "vscode": {
   "interpreter": {
    "hash": "aee8b7b246df8f9039afb4144a1f6fd8d2ca17a180786b69acc140d282b71a49"
   }
  }
 },
 "nbformat": 4,
 "nbformat_minor": 2
}
