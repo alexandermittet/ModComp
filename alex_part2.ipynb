{
 "cells": [
  {
   "attachments": {},
   "cell_type": "markdown",
   "metadata": {},
   "source": [
    "GPt-4 prompt:\n",
    "\n",
    "I have this exercise and the following data:\n",
    "\n",
    "*Available Data:\n",
    "tree.csv with columns [Parent,Child,age_ch,t,species]\n",
    "vert_genes.csv with columns [ensembl_id,orthId,glength,species]\n",
    "\n",
    "*Subject/Background information:\n",
    "GAUSSIAN TREE MODELS OF GENE LENGTH EVOLUTION\n",
    "3. INFERENCE OF HIDDEN NODES\n",
    "Only the leaf nodes, $X_i$, are in practice observed, and prediction of the unobserved gene lengths of the ancestors, $Z_0, \\ldots, Z_{n-2}$, is an inference problem.\n",
    "4\n",
    "GAUSSIAN TREE MODELS\n",
    "FigURE 2. An illustration of the Bayesian network structure used in this project. The variables $X_1, \\ldots, X_n$ are gene lengths of orthologous genes from $n$ present day species, and the variables are the leaves in a tree where the root, $Z_0$, and the other non-leaves, $Z_1, \\ldots, Z_{n-2}$, are generally unobserved. Each non-leaf variable has precisely two children and equals the gene length in the evolutionary most recent common ancestor of its children.\n",
    "The conditional distribution of $Z_0, \\ldots, Z_{n-2}$ given $X_1, \\ldots, X_n$ is Gaussian and can be found by matrix algebra. It is useful to implement this for testing, but you must implement at least one efficient algorithm for computing $Z_i \\mid X_1, \\ldots, X_n$ for $i=0, \\ldots, n-2$.\n",
    "\n",
    "\n",
    "*Exercise:\n",
    "Implement inference algorithms for computing the conditional distribution of each of the variables $Z_0, \\ldots, Z_{n-2}$ given $X_1, \\ldots, X_n$.\n",
    "How would i do this in a simple way in python?"
   ]
  },
  {
   "cell_type": "code",
   "execution_count": 1,
   "metadata": {},
   "outputs": [],
   "source": [
    "# Imports\n",
    "import pandas as pd\n",
    "import numpy as np\n",
    "from scipy.linalg import block_diag\n",
    "from collections import defaultdict"
   ]
  },
  {
   "cell_type": "code",
   "execution_count": 4,
   "metadata": {},
   "outputs": [],
   "source": [
    "# Read data\n",
    "tree_df = pd.read_csv('data/tree.csv')\n",
    "vert_genes_df = pd.read_csv('data/vert_genes.csv')\n"
   ]
  },
  {
   "cell_type": "code",
   "execution_count": 18,
   "metadata": {},
   "outputs": [
    {
     "name": "stdout",
     "output_type": "stream",
     "text": [
      "{nan: None}\n"
     ]
    }
   ],
   "source": [
    "# Construct the tree\n",
    "def build_tree(tree_df):\n",
    "    tree = {}\n",
    "    for _, row in tree_df.iterrows():\n",
    "        right_child = tree_df.loc[tree_df['Parent'] == row['Child'], 'Child'].values\n",
    "        tree[row['Parent']] = {'left': row['Child'], 'right': right_child[0] if len(right_child) > 0 else None}\n",
    "    return tree\n",
    "\n",
    "# Get the number of species\n",
    "n = len(vert_genes_df['species'].unique())\n",
    "\n",
    "# Define a function to compute the covariance matrix for a subtree rooted at node\n",
    "def compute_covariance_matrix(tree, node):\n",
    "    if node not in tree:  # If the node is a leaf\n",
    "        return np.empty((0, 0))  # Return an empty 2-dimensional array\n",
    "\n",
    "    children = tree[node]\n",
    "\n",
    "    # Recursively compute covariance matrices for child subtrees\n",
    "    cov_matrices = [compute_covariance_matrix(tree, child) for child in children.values()]\n",
    "\n",
    "    # Calculate the covariance matrix for the current node\n",
    "    age_ch = tree_df.loc[tree_df['Child'] == children['left'], 'age_ch'].values[0]\n",
    "    t = tree_df.loc[tree_df['Child'] == children['left'], 't'].values[0]\n",
    "    cov_matrix = age_ch * np.array([[t, t / 2], [t / 2, t]])\n",
    "\n",
    "    return block_diag(*cov_matrices) + cov_matrix\n",
    "\n",
    "# Define a function to compute the conditional distribution of a hidden node given leaf nodes\n",
    "def compute_conditional_distribution(tree, node, inv_cov, X):\n",
    "    if node not in tree:  # If the node is a leaf\n",
    "        return None\n",
    "\n",
    "    children = tree[node]\n",
    "\n",
    "    # Find the indices of the hidden node and its children in the covariance matrix\n",
    "    idx_node = tree_df.loc[tree_df['Parent'] == node].index[0]\n",
    "    idx_child1 = tree_df.loc[tree_df['Parent'] == children['left']].index[0]\n",
    "    idx_child2 = tree_df.loc[tree_df['Parent'] == children['right']].index[0]\n",
    "\n",
    "    # Calculate the conditional distribution parameters\n",
    "    mean = (inv_cov[idx_node, idx_child1] * X[children['left']] + inv_cov[idx_node, idx_child2] * X[children['right']]) / inv_cov[idx_node, idx_node]\n",
    "    variance = 1 / inv_cov[idx_node, idx_node]\n",
    "\n",
    "    return mean, variance\n",
    "\n",
    "\n",
    "# ... (previous code for importing libraries and defining functions)\n",
    "\n",
    "tree = build_tree(tree_df)\n",
    "covariance_matrix = compute_covariance_matrix(tree, root_node)\n",
    "inv_covariance_matrix = np.linalg.inv(covariance_matrix)\n",
    "X = vert_genes_df.set_index('species')['glength'].to_dict()\n",
    "\n",
    "# Identify the root node (the node that is not a child)\n",
    "root_node = tree_df.loc[~tree_df['Parent'].isin(tree_df['Child']), 'Parent'].values[0]\n",
    "\n",
    "# Identify the internal nodes (excluding leaf nodes and the root node)\n",
    "internal_nodes = set(tree_df['Parent']).difference(set(tree_df['Child']), {root_node})\n",
    "\n",
    "conditional_distributions = {node: compute_conditional_distribution(tree, node, inv_covariance_matrix, X) for node in internal_nodes}\n",
    "\n",
    "print(conditional_distributions)"
   ]
  },
  {
   "cell_type": "code",
   "execution_count": 13,
   "metadata": {},
   "outputs": [
    {
     "name": "stdout",
     "output_type": "stream",
     "text": [
      "{222.0: {'left': 2, 'right': None}, 221.0: {'left': 222, 'right': 1}, 220.0: {'left': 221, 'right': 3}, 219.0: {'left': 220, 'right': 4}, 218.0: {'left': 219, 'right': 5}, 217.0: {'left': 218, 'right': 6}, 216.0: {'left': 217, 'right': 7}, 215.0: {'left': 216, 'right': 8}, 224.0: {'left': 11, 'right': None}, 226.0: {'left': 13, 'right': None}, 225.0: {'left': 226, 'right': 12}, 213.0: {'left': 214, 'right': 215}, 241.0: {'left': 17, 'right': None}, 240.0: {'left': 241, 'right': 16}, 239.0: {'left': 240, 'right': 18}, 238.0: {'left': 239, 'right': 19}, 242.0: {'left': 22, 'right': None}, 243.0: {'left': 24, 'right': None}, 235.0: {'left': 236, 'right': 237}, 234.0: {'left': 235, 'right': 25}, 233.0: {'left': 234, 'right': 26}, 249.0: {'left': 29, 'right': None}, 248.0: {'left': 249, 'right': 28}, 247.0: {'left': 248, 'right': 30}, 252.0: {'left': 33, 'right': None}, 251.0: {'left': 252, 'right': 32}, 250.0: {'left': 251, 'right': 34}, 254.0: {'left': 37, 'right': None}, 258.0: {'left': 39, 'right': None}, 260.0: {'left': 41, 'right': None}, 259.0: {'left': 260, 'right': 40}, 256.0: {'left': 257, 'right': 258}, 255.0: {'left': 256, 'right': 43}, 262.0: {'left': 46, 'right': None}, 261.0: {'left': 262, 'right': 45}, 265.0: {'left': 49, 'right': None}, 267.0: {'left': 51, 'right': None}, 266.0: {'left': 267, 'right': 50}, 263.0: {'left': 264, 'right': 265}, 271.0: {'left': 55, 'right': None}, 273.0: {'left': 57, 'right': None}, 272.0: {'left': 273, 'right': 56}, 269.0: {'left': 270, 'right': 271}, 268.0: {'left': 269, 'right': 59}, 274.0: {'left': 62, 'right': None}, 281.0: {'left': 64, 'right': None}, 280.0: {'left': 281, 'right': 63}, 287.0: {'left': 67, 'right': None}, 286.0: {'left': 287, 'right': 66}, 291.0: {'left': 70, 'right': None}, 290.0: {'left': 291, 'right': 69}, 289.0: {'left': 290, 'right': 71}, 288.0: {'left': 289, 'right': 72}, 284.0: {'left': 285, 'right': 286}, 283.0: {'left': 284, 'right': 74}, 296.0: {'left': 77, 'right': None}, 295.0: {'left': 296, 'right': 76}, 294.0: {'left': 295, 'right': 78}, 293.0: {'left': 294, 'right': 79}, 292.0: {'left': 293, 'right': 80}, 278.0: {'left': 279, 'right': 280}, 277.0: {'left': 278, 'right': 82}, 299.0: {'left': 85, 'right': None}, 298.0: {'left': 299, 'right': 84}, 300.0: {'left': 88, 'right': None}, 304.0: {'left': 90, 'right': None}, 303.0: {'left': 304, 'right': 89}, 302.0: {'left': 303, 'right': 91}, 301.0: {'left': 302, 'right': 92}, 305.0: {'left': 95, 'right': None}, 211.0: {'left': 212, 'right': 213}, 309.0: {'left': 98, 'right': None}, 308.0: {'left': 309, 'right': 97}, 307.0: {'left': 308, 'right': 99}, 306.0: {'left': 307, 'right': 100}, 311.0: {'left': 103, 'right': None}, 313.0: {'left': 105, 'right': None}, 312.0: {'left': 313, 'right': 104}, 316.0: {'left': 108, 'right': None}, 315.0: {'left': 316, 'right': 107}, 317.0: {'left': 111, 'right': None}, 207.0: {'left': 208, 'right': 209}, 206.0: {'left': 207, 'right': 112}, 321.0: {'left': 115, 'right': None}, 331.0: {'left': 117, 'right': None}, 330.0: {'left': 331, 'right': 116}, 334.0: {'left': 120, 'right': None}, 333.0: {'left': 334, 'right': 119}, 332.0: {'left': 333, 'right': 121}, 328.0: {'left': 329, 'right': 330}, 346.0: {'left': 125, 'right': None}, 345.0: {'left': 346, 'right': 124}, 344.0: {'left': 345, 'right': 126}, 343.0: {'left': 344, 'right': 127}, 342.0: {'left': 343, 'right': 128}, 341.0: {'left': 342, 'right': 129}, 340.0: {'left': 341, 'right': 130}, 339.0: {'left': 340, 'right': 131}, 338.0: {'left': 339, 'right': 132}, 337.0: {'left': 338, 'right': 133}, 349.0: {'left': 136, 'right': None}, 348.0: {'left': 349, 'right': 135}, 355.0: {'left': 139, 'right': None}, 354.0: {'left': 355, 'right': 138}, 353.0: {'left': 354, 'right': 140}, 352.0: {'left': 353, 'right': 141}, 351.0: {'left': 352, 'right': 142}, 350.0: {'left': 351, 'right': 143}, 335.0: {'left': 336, 'right': 337}, 357.0: {'left': 147, 'right': None}, 356.0: {'left': 357, 'right': 146}, 325.0: {'left': 326, 'right': 327}, 324.0: {'left': 325, 'right': 149}, 323.0: {'left': 324, 'right': 150}, 322.0: {'left': 323, 'right': 151}, 364.0: {'left': 154, 'right': None}, 366.0: {'left': 156, 'right': None}, 365.0: {'left': 366, 'right': 155}, 368.0: {'left': 159, 'right': None}, 367.0: {'left': 368, 'right': 158}, 369.0: {'left': 162, 'right': None}, 377.0: {'left': 164, 'right': None}, 376.0: {'left': 377, 'right': 163}, 378.0: {'left': 167, 'right': None}, 379.0: {'left': 169, 'right': None}, 380.0: {'left': 171, 'right': None}, 381.0: {'left': 173, 'right': None}, 371.0: {'left': 372, 'right': 373}, 382.0: {'left': 176, 'right': None}, 388.0: {'left': 178, 'right': None}, 390.0: {'left': 180, 'right': None}, 393.0: {'left': 182, 'right': None}, 392.0: {'left': 393, 'right': 181}, 391.0: {'left': 392, 'right': 183}, 394.0: {'left': 186, 'right': None}, 395.0: {'left': 188, 'right': None}, 384.0: {'left': 385, 'right': 386}, 396.0: {'left': 191, 'right': None}, 358.0: {'left': 359, 'right': 360}, 318.0: {'left': 319, 'right': 320}, 402.0: {'left': 195, 'right': None}, 401.0: {'left': 402, 'right': 194}, 400.0: {'left': 401, 'right': 196}, 405.0: {'left': 199, 'right': None}, 404.0: {'left': 405, 'right': 198}, 406.0: {'left': 202, 'right': None}, 398.0: {'left': 399, 'right': 400}, 397.0: {'left': 398, 'right': 203}, 407.0: {'left': 206, 'right': 113}, 208.0: {'left': 314, 'right': 315}, 209.0: {'left': 310, 'right': 311}, 210.0: {'left': 306, 'right': 101}, 212.0: {'left': 227, 'right': 228}, 214.0: {'left': 223, 'right': 224}, 223.0: {'left': 225, 'right': 14}, 227.0: {'left': 305, 'right': 94}, 228.0: {'left': 275, 'right': 276}, 229.0: {'left': 274, 'right': 61}, 230.0: {'left': 268, 'right': 60}, 231.0: {'left': 263, 'right': 53}, 232.0: {'left': 244, 'right': 245}, 236.0: {'left': 243, 'right': 23}, 237.0: {'left': 242, 'right': 21}, 244.0: {'left': 261, 'right': 47}, 245.0: {'left': 253, 'right': 254}, 246.0: {'left': 250, 'right': 35}, 253.0: {'left': 255, 'right': 44}, 257.0: {'left': 259, 'right': 42}, 264.0: {'left': 266, 'right': 52}, 270.0: {'left': 272, 'right': 58}, 275.0: {'left': 301, 'right': 93}, 276.0: {'left': 297, 'right': 298}, 279.0: {'left': 282, 'right': 283}, 282.0: {'left': 292, 'right': 81}, 285.0: {'left': 288, 'right': 73}, 297.0: {'left': 300, 'right': 87}, 310.0: {'left': 312, 'right': 106}, 314.0: {'left': 317, 'right': 110}, 205.0: {'left': 397, 'right': 204}, 319.0: {'left': 358, 'right': 192}, 320.0: {'left': 322, 'right': 152}, 326.0: {'left': 356, 'right': 148}, 327.0: {'left': 335, 'right': 145}, 329.0: {'left': 332, 'right': 122}, 336.0: {'left': 347, 'right': 348}, 347.0: {'left': 350, 'right': 144}, 359.0: {'left': 383, 'right': 384}, 360.0: {'left': 370, 'right': 371}, 361.0: {'left': 369, 'right': 161}, 362.0: {'left': 367, 'right': 160}, 363.0: {'left': 365, 'right': 157}, 370.0: {'left': 382, 'right': 175}, 372.0: {'left': 381, 'right': 172}, 373.0: {'left': 380, 'right': 170}, 374.0: {'left': 379, 'right': 168}, 375.0: {'left': 378, 'right': 166}, 383.0: {'left': 396, 'right': 190}, 385.0: {'left': 395, 'right': 187}, 386.0: {'left': 394, 'right': 185}, 387.0: {'left': 389, 'right': 390}, 389.0: {'left': 391, 'right': 184}, 399.0: {'left': 403, 'right': 404}, 403.0: {'left': 406, 'right': 201}, nan: {'left': 407, 'right': 205}}\n"
     ]
    }
   ],
   "source": [
    "tree = build_tree(tree_df)\n",
    "print(tree)\n"
   ]
  },
  {
   "cell_type": "code",
   "execution_count": 14,
   "metadata": {},
   "outputs": [
    {
     "name": "stdout",
     "output_type": "stream",
     "text": [
      "Processed nodes: []\n",
      "{}\n"
     ]
    }
   ],
   "source": [
    "conditional_distributions = {str(node): compute_conditional_distribution(tree, node, inv_covariance_matrix, X) for node in tree if str(node).startswith('Z')}\n",
    "print(\"Processed nodes:\", [str(node) for node in tree if str(node).startswith('Z')])\n",
    "print(conditional_distributions)\n"
   ]
  }
 ],
 "metadata": {
  "kernelspec": {
   "display_name": "base",
   "language": "python",
   "name": "python3"
  },
  "language_info": {
   "codemirror_mode": {
    "name": "ipython",
    "version": 3
   },
   "file_extension": ".py",
   "mimetype": "text/x-python",
   "name": "python",
   "nbconvert_exporter": "python",
   "pygments_lexer": "ipython3",
   "version": "3.9.13"
  },
  "orig_nbformat": 4
 },
 "nbformat": 4,
 "nbformat_minor": 2
}
