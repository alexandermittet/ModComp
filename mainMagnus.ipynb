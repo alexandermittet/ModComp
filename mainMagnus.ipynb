{
 "cells": [
  {
   "cell_type": "code",
   "execution_count": 86,
   "metadata": {},
   "outputs": [],
   "source": [
    "import time\n",
    "import numpy as np\n",
    "import pandas as pd\n",
    "import matplotlib.pyplot as plt\n",
    "from sklearn.model_selection import train_test_split\n",
    "from sklearn.linear_model import LinearRegression\n",
    "from sklearn.metrics import mean_squared_error, r2_score"
   ]
  },
  {
   "cell_type": "code",
   "execution_count": 87,
   "metadata": {},
   "outputs": [],
   "source": [
    "def create_graph(df) -> dict:\n",
    "    \"\"\"\n",
    "    returns a didct with keys = node key, and values = edges (node_id, edge weight) \n",
    "    \"\"\"\n",
    "    tree = {}\n",
    "    for _, row in df.iterrows():\n",
    "        parent = row['Parent']\n",
    "        child = row['Child']\n",
    "        weight = row['t']\n",
    "\n",
    "        # root node\n",
    "        if pd.isna(parent): \n",
    "            continue\n",
    "        # node already exists\n",
    "        elif parent in tree: \n",
    "            tree[parent].append((child, weight))\n",
    "        # node does not exists\n",
    "        else:\n",
    "            tree[parent] = [(child, weight)]\n",
    "    return tree\n",
    "\n",
    "\n",
    "def pd_z0():\n",
    "    return max(np.random.normal(alpha_0, np.sqrt(variance_0)), 1)\n",
    "\n",
    "\n",
    "def cpd(z, t):\n",
    "    mean = (alpha * t) + (beta * z)\n",
    "    var = variance * t\n",
    "    return max(np.random.normal(mean, np.sqrt(var)), 1)\n",
    "\n",
    "\n",
    "def simulation(root: int, graph: dict, alpha0, variance0, alpha, beta, variance) -> dict:\n",
    "    \"\"\"\n",
    "    BFS\n",
    "    returns z value for all 407 nodes\n",
    "    \"\"\"\n",
    "    gene_lengths = {}\n",
    "    \n",
    "    z0 = max(np.random.normal(alpha0, np.sqrt(variance0)), 1)\n",
    "    queue = [(root, z0)]\n",
    "\n",
    "    while queue:\n",
    "        # handle the next element in queue\n",
    "        node, z = queue.pop(0)\n",
    "        \n",
    "        # set node in results in genelength z\n",
    "        gene_lengths[node] = z\n",
    "        \n",
    "        # get all children for the node\n",
    "        children = graph.get(node, [])\n",
    "\n",
    "        if not children:\n",
    "            continue\n",
    "        else:\n",
    "            # for all the children for this node calculate their z\n",
    "            # since we know it's a tree, only the parent can have influence\n",
    "            for child in children:\n",
    "                id, t = child\n",
    "                t = round(t, 3)\n",
    "                \n",
    "                # draw a sample\n",
    "                mean = (alpha * t) + (beta * z)\n",
    "                var = variance * t\n",
    "                \n",
    "                    \n",
    "                cpd_z = max(np.random.normal(mean, np.sqrt(var)), 1)\n",
    "                #print(f\"id:{id}, t:{t}, var:{var}, std:{np.sqrt(var)}, mean:{mean}, cpd:{cpd_z}\")\n",
    "                #if id == 205:\n",
    "                #    print(var)\n",
    "                #    print(mean)\n",
    "                #    print(cpd_z)\n",
    "                # append child to queue\n",
    "                queue.append((id, cpd_z))\n",
    "\n",
    "    return gene_lengths\n",
    "\n",
    "\n",
    "def n_simulations(n, root, graph, alpha0, variance0, alpha, beta, variance) -> tuple:\n",
    "    \"\"\"\n",
    "    Returns results for X=X1 ... X204 n times, and y=Z0 n times s\n",
    "    \"\"\"\n",
    "    X = np.empty((n, 204))\n",
    "    Z = np.empty((n, 203))\n",
    "    y = np.empty(n)\n",
    "    \n",
    "    for i in range(n):\n",
    "        if type(alpha0) == np.dtype('object_'): \n",
    "            results = simulation(root=root, graph=graph, alpha0=alpha0[i], variance0=variance0[i], alpha=alpha[i], beta=beta[i], variance=variance[i])\n",
    "        else:\n",
    "            results = simulation(root=root, graph=graph, alpha0=alpha0, variance0=variance0, alpha=alpha, beta=beta, variance=variance)\n",
    "        # extract the first 204 values from the dictionary and add them to X as a row\n",
    "        row_X = [results[key] for key in range(1, 205)]\n",
    "        row_Z = [results[key] for key in range(205, 408)]\n",
    "        \n",
    "        X[i] = np.array(row_X)\n",
    "        Z[i] = np.array(row_Z)\n",
    "        \n",
    "        \n",
    "    return X, Z\n",
    "\n",
    "\n",
    "\n",
    "def dfs_paths_with_cpd(graph, start_node, z, path=None):\n",
    "    # returns all paths and the gene length at each node in the path\n",
    "    if path is None:\n",
    "        path = [(start_node, z)]\n",
    "\n",
    "    if start_node not in graph:\n",
    "        return [path]\n",
    "\n",
    "    paths = []\n",
    "    for child, t in graph[start_node]:\n",
    "        if child not in [node for node, _ in path]:\n",
    "            new_z = cpd(z, t)\n",
    "            child_paths = dfs_paths_with_cpd(graph, child, new_z, path + [(child, new_z)])\n",
    "            paths.extend(child_paths)\n",
    "\n",
    "    return paths"
   ]
  },
  {
   "cell_type": "code",
   "execution_count": 88,
   "metadata": {},
   "outputs": [],
   "source": [
    "# load data\n",
    "tree_data = pd.read_csv('data/tree.csv')\n",
    "genes_data = pd.read_csv('data/vert_genes.csv')\n",
    "\n",
    "# remove root node, since we already have reference to it from else where. unless issue with t?\n",
    "tree_data = tree_data[tree_data['Parent'].notna()]\n",
    "\n",
    "# convert parent col to ints\n",
    "tree_data['Parent'] = tree_data['Parent'].astype(int)"
   ]
  },
  {
   "cell_type": "code",
   "execution_count": 89,
   "metadata": {},
   "outputs": [],
   "source": [
    "# gamma_0 + (alpha * time) (beta * parent gene len) + (gamma * time * parent gene len)\n",
    "\n",
    "# Parameters\n",
    "# for Z_0\n",
    "alpha_0 = 50000\n",
    "variance_0 = 500000\n",
    "\n",
    "# for Z_i and X_i\n",
    "alpha = 20\n",
    "beta = 1\n",
    "variance = 5000\n",
    "\n",
    "# Settings\n",
    "root = 407\n",
    "n = 10000\n",
    "\n",
    "# create a dict graph\n",
    "graph = create_graph(tree_data)"
   ]
  },
  {
   "cell_type": "code",
   "execution_count": 90,
   "metadata": {},
   "outputs": [
    {
     "name": "stdout",
     "output_type": "stream",
     "text": [
      "17.3116281033 sec\n"
     ]
    }
   ],
   "source": [
    "# Create data\n",
    "t0 = time.time()\n",
    "X, Z = n_simulations(n, root, graph, alpha_0, variance_0, alpha, beta, variance)\n",
    "runtime = time.time() - t0\n",
    "print(f\"{runtime:.10f} sec\")"
   ]
  },
  {
   "cell_type": "code",
   "execution_count": 91,
   "metadata": {},
   "outputs": [
    {
     "name": "stdout",
     "output_type": "stream",
     "text": [
      "[48994.55678969 50513.77858551 50370.93587046 ... 49493.39326697\n",
      " 50059.7971167  48527.4934194 ]\n"
     ]
    }
   ],
   "source": [
    "y = Z[:,-1]\n",
    "print(y)"
   ]
  },
  {
   "cell_type": "code",
   "execution_count": 92,
   "metadata": {},
   "outputs": [
    {
     "name": "stdout",
     "output_type": "stream",
     "text": [
      "(10000, 204)\n",
      "(10000,)\n"
     ]
    }
   ],
   "source": [
    "print(X.shape)\n",
    "print(y.shape)"
   ]
  },
  {
   "cell_type": "code",
   "execution_count": 93,
   "metadata": {},
   "outputs": [
    {
     "name": "stdout",
     "output_type": "stream",
     "text": [
      "TRAIN. r2: 0.954, MSE: 23835.521\n",
      "TEST. r2: 0.952, MSE: 24066.956\n"
     ]
    }
   ],
   "source": [
    "# lin reg\n",
    "X_train, X_test, y_train, y_test = train_test_split(X, y, test_size=0.2)\n",
    "reg = LinearRegression().fit(X_train, y_train)\n",
    "\n",
    "# Train results\n",
    "yt_pred = reg.predict(X_train)\n",
    "train_r2 = reg.score(X_train, y_train)\n",
    "train_mse = mean_squared_error(y_train, yt_pred)\n",
    "\n",
    "# Test results\n",
    "y_pred = reg.predict(X_test)\n",
    "test_r2 = r2_score(y_test, y_pred)\n",
    "test_mse = mean_squared_error(y_test, y_pred)\n",
    "\n",
    "print(f\"TRAIN. r2: {train_r2:.3f}, MSE: {train_mse:.3f}\")\n",
    "print(f\"TEST. r2: {test_r2:.3f}, MSE: {test_mse:.3f}\")"
   ]
  },
  {
   "cell_type": "code",
   "execution_count": 94,
   "metadata": {},
   "outputs": [
    {
     "data": {
      "image/png": "[encoded data removed]",
      "text/plain": [
       "<Figure size 432x288 with 1 Axes>"
      ]
     },
     "metadata": {
      "needs_background": "light"
     },
     "output_type": "display_data"
    }
   ],
   "source": [
    "plt.hist(X.flatten(), bins=int(n/10))\n",
    "\n",
    "plt.xlabel('Gene length')\n",
    "plt.ylabel('Frequency')\n",
    "plt.title(f'Histogram of gene lengths, runs: {n}')\n",
    "plt.show()"
   ]
  },
  {
   "cell_type": "code",
   "execution_count": 95,
   "metadata": {},
   "outputs": [
    {
     "data": {
      "image/png": "[encoded data removed]",
      "text/plain": [
       "<Figure size 432x288 with 1 Axes>"
      ]
     },
     "metadata": {
      "needs_background": "light"
     },
     "output_type": "display_data"
    }
   ],
   "source": [
    "# all paths with their respective z values at each node in the path\n",
    "paths_with_z = dfs_paths_with_cpd(graph=graph, start_node=407, z=pd_z0())\n",
    "\n",
    "# plot development of gene length for all paths\n",
    "# longest = max(paths_with_z, key=len)  # plot the path with the most ancestors\n",
    "for index, path in enumerate(paths_with_z):\n",
    "    ys = [y[1] for y in path]\n",
    "    plt.scatter(range(len(ys)), ys)\n",
    "\n",
    "plt.xlabel('number of ancestors at node')\n",
    "plt.ylabel('gene lengths')\n",
    "plt.title('Development of gene length over ancestor nodes')\n",
    "plt.show()"
   ]
  },
  {
   "cell_type": "code",
   "execution_count": 96,
   "metadata": {},
   "outputs": [],
   "source": [
    "# load data\n",
    "treedat = pd.read_csv('data/tree.csv')\n",
    "genesdat = pd.read_csv('data/vert_genes.csv')"
   ]
  },
  {
   "cell_type": "code",
   "execution_count": 97,
   "metadata": {},
   "outputs": [
    {
     "data": {
      "text/plain": [
       "205"
      ]
     },
     "execution_count": 97,
     "metadata": {},
     "output_type": "execute_result"
    }
   ],
   "source": [
    "# 205 from the nan present\n",
    "len(treedat['species'].unique())"
   ]
  },
  {
   "cell_type": "code",
   "execution_count": 98,
   "metadata": {},
   "outputs": [
    {
     "data": {
      "text/plain": [
       "204"
      ]
     },
     "execution_count": 98,
     "metadata": {},
     "output_type": "execute_result"
    }
   ],
   "source": [
    "len(genesdat['species'].unique())"
   ]
  },
  {
   "cell_type": "code",
   "execution_count": 99,
   "metadata": {},
   "outputs": [
    {
     "data": {
      "text/plain": [
       "10"
      ]
     },
     "execution_count": 99,
     "metadata": {},
     "output_type": "execute_result"
    }
   ],
   "source": [
    "len(genesdat['orthId'].unique())"
   ]
  },
  {
   "cell_type": "code",
   "execution_count": 100,
   "metadata": {},
   "outputs": [
    {
     "data": {
      "text/plain": [
       "False"
      ]
     },
     "execution_count": 100,
     "metadata": {},
     "output_type": "execute_result"
    }
   ],
   "source": [
    "# group species by the orthid\n",
    "grouped = genesdat.groupby('orthId')['species'].agg(list).reset_index()\n",
    "grouped['species'][4] == grouped['species'][2]"
   ]
  },
  {
   "cell_type": "code",
   "execution_count": 101,
   "metadata": {},
   "outputs": [
    {
     "data": {
      "text/plain": [
       "['Acanthisitta_chloris',\n",
       " 'Anas_platyrhynchos',\n",
       " 'Anser_cygnoides',\n",
       " 'Apaloderma_vittatum',\n",
       " 'Aptenodytes_forsteri',\n",
       " 'Apteryx_australis',\n",
       " 'Aquila_chrysaetos',\n",
       " 'Balearica_regulorum',\n",
       " 'Buceros_rhinoceros',\n",
       " 'Calidris_pugnax',\n",
       " 'Calypte_anna',\n",
       " 'Caprimulgus_carolinensis',\n",
       " 'Cariama_cristata',\n",
       " 'Chaetura_pelagica',\n",
       " 'Charadrius_vociferus',\n",
       " 'Chlamydotis_macqueenii',\n",
       " 'Colius_striatus',\n",
       " 'Columba_livia',\n",
       " 'Corvus_brachyrhynchos',\n",
       " 'Corvus_cornix',\n",
       " 'Coturnix_japonica',\n",
       " 'Cuculus_canorus',\n",
       " 'Egretta_garzetta',\n",
       " 'Eurypyga_helias',\n",
       " 'Falco_cherrug',\n",
       " 'Falco_peregrinus',\n",
       " 'Ficedula_albicollis',\n",
       " 'Fulmarus_glacialis',\n",
       " 'Gallus_gallus',\n",
       " 'Gavia_stellata',\n",
       " 'Geospiza_fortis',\n",
       " 'Haliaeetus_albicilla',\n",
       " 'Haliaeetus_leucocephalus',\n",
       " 'Lepidothrix_coronata',\n",
       " 'Leptosomus_discolor',\n",
       " 'Meleagris_gallopavo',\n",
       " 'Melopsittacus_undulatus',\n",
       " 'Merops_nubicus',\n",
       " 'Mesitornis_unicolor',\n",
       " 'Nestor_notabilis',\n",
       " 'Nipponia_nippon',\n",
       " 'Opisthocomus_hoazin',\n",
       " 'Parus_major',\n",
       " 'Pelecanus_crispus',\n",
       " 'Phaethon_lepturus',\n",
       " 'Phalacrocorax_carbo',\n",
       " 'Picoides_pubescens',\n",
       " 'Pseudopodoces_humilis',\n",
       " 'Pterocles_gutturalis',\n",
       " 'Pygoscelis_adeliae',\n",
       " 'Serinus_canaria',\n",
       " 'Struthio_camelus',\n",
       " 'Sturnus_vulgaris',\n",
       " 'Taeniopygia_guttata',\n",
       " 'Tauraco_erythrolophus',\n",
       " 'Tinamus_guttatus',\n",
       " 'Tyto_alba',\n",
       " 'Astyanax_mexicanus',\n",
       " 'Austrofundulus_limnaeus',\n",
       " 'Clupea_harengus',\n",
       " 'Cynoglossus_semilaevis',\n",
       " 'Cyprinodon_variegatus',\n",
       " 'Danio_rerio',\n",
       " 'Esox_lucius',\n",
       " 'Fundulus_heteroclitus',\n",
       " 'Haplochromis_burtoni',\n",
       " 'Ictalurus_punctatus',\n",
       " 'Kryptolebias_marmoratus',\n",
       " 'Larimichthys_crocea',\n",
       " 'Lates_calcarifer',\n",
       " 'Lepisosteus_oculatus',\n",
       " 'Maylandia_zebra',\n",
       " 'Neolamprologus_brichardi',\n",
       " 'Nothobranchius_furzeri',\n",
       " 'Notothenia_coriiceps',\n",
       " 'Oreochromis_niloticus',\n",
       " 'Oryzias_latipes',\n",
       " 'Poecilia_formosa',\n",
       " 'Poecilia_latipinna',\n",
       " 'Poecilia_mexicana',\n",
       " 'Poecilia_reticulata',\n",
       " 'Pundamilia_nyererei',\n",
       " 'Pygocentrus_nattereri',\n",
       " 'Salmo_salar',\n",
       " 'Scleropages_formosus',\n",
       " 'Sinocyclocheilus_anshuiensis',\n",
       " 'Sinocyclocheilus_grahami',\n",
       " 'Sinocyclocheilus_rhinocerous',\n",
       " 'Stegastes_partitus',\n",
       " 'Takifugu_rubripes',\n",
       " 'Xiphophorus_maculatus',\n",
       " 'Acinonyx_jubatus',\n",
       " 'Ailuropoda_melanoleuca',\n",
       " 'Aotus_nancymaae',\n",
       " 'Balaenoptera_acutorostrata',\n",
       " 'Bison_bison',\n",
       " 'Bos_mutus',\n",
       " 'Bos_taurus',\n",
       " 'Bubalus_bubalis',\n",
       " 'Callithrix_jacchus',\n",
       " 'Camelus_bactrianus',\n",
       " 'Camelus_dromedarius',\n",
       " 'Camelus_ferus',\n",
       " 'Canis_lupus',\n",
       " 'Capra_hircus',\n",
       " 'Carlito_syrichta',\n",
       " 'Cavia_porcellus',\n",
       " 'Cebus_capucinus',\n",
       " 'Ceratotherium_simum',\n",
       " 'Cercocebus_atys',\n",
       " 'Chinchilla_lanigera',\n",
       " 'Chlorocebus_sabaeus',\n",
       " 'Chrysochloris_asiatica',\n",
       " 'Colobus_angolensis',\n",
       " 'Condylura_cristata',\n",
       " 'Cricetulus_griseus',\n",
       " 'Dasypus_novemcinctus',\n",
       " 'Dipodomys_ordii',\n",
       " 'Echinops_telfairi',\n",
       " 'Elephantulus_edwardii',\n",
       " 'Eptesicus_fuscus',\n",
       " 'Equus_asinus',\n",
       " 'Equus_caballus',\n",
       " 'Equus_przewalskii',\n",
       " 'Erinaceus_europaeus',\n",
       " 'Felis_catus',\n",
       " 'Fukomys_damarensis',\n",
       " 'Galeopterus_variegatus',\n",
       " 'Gorilla_gorilla',\n",
       " 'Heterocephalus_glaber',\n",
       " 'Homo_sapiens',\n",
       " 'Ictidomys_tridecemlineatus',\n",
       " 'Jaculus_jaculus',\n",
       " 'Leptonychotes_weddellii',\n",
       " 'Lipotes_vexillifer',\n",
       " 'Loxodonta_africana',\n",
       " 'Macaca_fascicularis',\n",
       " 'Macaca_mulatta',\n",
       " 'Macaca_nemestrina',\n",
       " 'Manacus_vitellinus',\n",
       " 'Mandrillus_leucophaeus',\n",
       " 'Manis_javanica',\n",
       " 'Marmota_marmota',\n",
       " 'Mesocricetus_auratus',\n",
       " 'Microcebus_murinus',\n",
       " 'Microtus_ochrogaster',\n",
       " 'Miniopterus_natalensis',\n",
       " 'Monodelphis_domestica',\n",
       " 'Mus_musculus',\n",
       " 'Mustela_putorius',\n",
       " 'Myotis_brandtii',\n",
       " 'Myotis_davidii',\n",
       " 'Myotis_lucifugus',\n",
       " 'Nannospalax_galili',\n",
       " 'Nomascus_leucogenys',\n",
       " 'Ochotona_princeps',\n",
       " 'Octodon_degus',\n",
       " 'Odobenus_rosmarus',\n",
       " 'Orcinus_orca',\n",
       " 'Ornithorhynchus_anatinus',\n",
       " 'Orycteropus_afer',\n",
       " 'Oryctolagus_cuniculus',\n",
       " 'Otolemur_garnettii',\n",
       " 'Ovis_aries',\n",
       " 'Pan_paniscus',\n",
       " 'Pan_troglodytes',\n",
       " 'Panthera_tigris',\n",
       " 'Pantholops_hodgsonii',\n",
       " 'Papio_anubis',\n",
       " 'Peromyscus_maniculatus',\n",
       " 'Physeter_catodon',\n",
       " 'Pongo_abelii',\n",
       " 'Propithecus_coquereli',\n",
       " 'Pteropus_alecto',\n",
       " 'Pteropus_vampyrus',\n",
       " 'Rattus_norvegicus',\n",
       " 'Rhinopithecus_bieti',\n",
       " 'Rhinopithecus_roxellana',\n",
       " 'Rousettus_aegyptiacus',\n",
       " 'Saimiri_boliviensis',\n",
       " 'Sarcophilus_harrisii',\n",
       " 'Sorex_araneus',\n",
       " 'Sus_scrofa',\n",
       " 'Trichechus_manatus',\n",
       " 'Tupaia_chinensis',\n",
       " 'Tursiops_truncatus',\n",
       " 'Ursus_maritimus',\n",
       " 'Vicugna_pacos',\n",
       " 'Alligator_mississippiensis',\n",
       " 'Alligator_sinensis',\n",
       " 'Anolis_carolinensis',\n",
       " 'Callorhinchus_milii',\n",
       " 'Chelonia_mydas',\n",
       " 'Chrysemys_picta',\n",
       " 'Gekko_japonicus',\n",
       " 'Latimeria_chalumnae',\n",
       " 'Nanorana_parkeri',\n",
       " 'Pelodiscus_sinensis',\n",
       " 'Protobothrops_mucrosquamatus',\n",
       " 'Python_bivittatus',\n",
       " 'Thamnophis_sirtalis',\n",
       " 'Xenopus_laevis',\n",
       " 'Xenopus_tropicalis']"
      ]
     },
     "execution_count": 101,
     "metadata": {},
     "output_type": "execute_result"
    }
   ],
   "source": [
    "grouped['species'][0]  # gene 0"
   ]
  },
  {
   "attachments": {},
   "cell_type": "markdown",
   "metadata": {},
   "source": [
    "PART 2"
   ]
  },
  {
   "cell_type": "code",
   "execution_count": 102,
   "metadata": {},
   "outputs": [
    {
     "name": "stdout",
     "output_type": "stream",
     "text": [
      "     Parent  Child     age_ch          t                 species\n",
      "0     222.0      1   0.000000   9.000250  Peromyscus_maniculatus\n",
      "1     222.0      2   0.000000   9.000250            Mus_musculus\n",
      "2     221.0      3   0.000000  12.172706      Cricetulus_griseus\n",
      "3     220.0      4   0.000000  14.684269       Rattus_norvegicus\n",
      "4     219.0      5   0.000000  17.062881    Mesocricetus_auratus\n",
      "..      ...    ...        ...        ...                     ...\n",
      "402   399.0    403   7.861905   1.640772                     NaN\n",
      "403   403.0    404   5.750020   2.111885                     NaN\n",
      "404   404.0    405   5.500000   0.250020                     NaN\n",
      "405   403.0    406   5.000000   2.861905                     NaN\n",
      "406     NaN    407  50.024697   2.091292                     NaN\n",
      "\n",
      "[407 rows x 5 columns]\n",
      "        ensembl_id orthId  glength                       species\n",
      "0     XP_009078534  1CPN2    66213          Acanthisitta_chloris\n",
      "1     XP_005013863  1CPN2    44913            Anas_platyrhynchos\n",
      "2     XP_013048300  1CPN2   157799               Anser_cygnoides\n",
      "3     XP_009872504  1CPN2    67073           Apaloderma_vittatum\n",
      "4     XP_009281355  1CPN2    95046          Aptenodytes_forsteri\n",
      "...            ...    ...      ...                           ...\n",
      "2003  XP_014432008  1D3F1    10246           Pelodiscus_sinensis\n",
      "2004  XP_015672951  1D3F1     2030  Protobothrops_mucrosquamatus\n",
      "2005  XP_007438344  1D3F1     6591             Python_bivittatus\n",
      "2006  XP_018082244  1D3F1     3471                Xenopus_laevis\n",
      "2007  XP_017946504  1D3F1     3220            Xenopus_tropicalis\n",
      "\n",
      "[2008 rows x 4 columns]\n"
     ]
    }
   ],
   "source": [
    "# load data\n",
    "tree_data = pd.read_csv('data/tree.csv')\n",
    "genes_data = pd.read_csv('data/vert_genes.csv')\n",
    "\n",
    "print(tree_data)\n",
    "print(genes_data)\n"
   ]
  },
  {
   "cell_type": "code",
   "execution_count": 103,
   "metadata": {},
   "outputs": [],
   "source": [
    "class Node:\n",
    "    def __init__(self,data):\n",
    "        self.l = None\n",
    "        self.r = None\n",
    "        self.data = data\n",
    "        "
   ]
  },
  {
   "cell_type": "code",
   "execution_count": 104,
   "metadata": {},
   "outputs": [],
   "source": [
    "def create_tree(root):\n",
    "    children = tree_data[tree_data['Parent']==root]\n",
    "    node = Node(tree_data[tree_data['Child']==root])\n",
    "    if len(children)>0:\n",
    "        for i in range(0, len(children)):\n",
    "            if i == 0:\n",
    "                node.l = create_tree(children.iloc[1].iloc[1])\n",
    "            else:\n",
    "                node.r = create_tree(children.iloc[0].iloc[1])\n",
    "        return node\n",
    "    else:\n",
    "        return node\n",
    "\n",
    "tree = create_tree(407)"
   ]
  },
  {
   "cell_type": "code",
   "execution_count": 105,
   "metadata": {},
   "outputs": [],
   "source": [
    "def meanCovariance(tree, mean, covariance,alpha,beta,variance):\n",
    "    if tree != None:\n",
    "        index = int(tree.data.iloc[0].iloc[1])\n",
    "        t = int(tree.data.iloc[0].iloc[3])\n",
    "        parent = int(tree.data.iloc[0].iloc[0])\n",
    "        mean[index-1] = mean[parent-1]*beta+alpha*t\n",
    "\n",
    "        covariance[index-1,:] = covariance[parent-1,:]*beta \n",
    "        covariance[:,index-1] = covariance[parent-1,:]*beta \n",
    "\n",
    "        covariance[index-1,index-1] = variance*t+(beta**2)*covariance[parent-1,parent-1]\n",
    "        '''covariance[index-1,parent-1] = beta**2*covariance[parent-1,parent-1]\n",
    "        covariance[parent-1,index-1] = beta**2*covariance[parent-1,parent-1]'''\n",
    "        meanCovariance(tree.l,mean,covariance,alpha,beta,variance)\n",
    "        meanCovariance(tree.r,mean,covariance,alpha,beta,variance)\n",
    "    else:\n",
    "        return\n"
   ]
  },
  {
   "cell_type": "code",
   "execution_count": 106,
   "metadata": {},
   "outputs": [],
   "source": [
    "def inference(tree, alpha_0,variance_0,alpha,beta,variance,X):\n",
    "    mean = np.zeros(407)\n",
    "    covariance = np.array(407*[np.zeros(407)])\n",
    "\n",
    "    mean[406] = alpha_0\n",
    "    covariance[406,406] = variance_0\n",
    "    meanCovariance(tree.l,mean,covariance,alpha,beta,variance)\n",
    "    meanCovariance(tree.r,mean,covariance,alpha,beta,variance)\n",
    "\n",
    "    J = np.linalg.pinv(covariance)\n",
    "    h = np.matmul(J,mean)\n",
    "\n",
    "    meanY = np.zeros(203)\n",
    "    varianceY = np.zeros(203)\n",
    "    sigmaXX = np.linalg.pinv(covariance[:204,:204])\n",
    "    xMean = X-mean[:204]\n",
    "    for j in range(204,407):\n",
    "        sigmaYX = covariance[j,:204].reshape(1,204)\n",
    "        sigmaXY = covariance[:204,j].reshape(204,1)\n",
    "\n",
    "        meanY[j-204] = int(mean[j]+np.matmul(np.matmul(sigmaYX,sigmaXX),xMean.reshape(204,1)))\n",
    "        varianceY[j-204] = int(covariance[j,j]-np.matmul(np.matmul(sigmaYX,sigmaXX),sigmaXY))\n",
    "    return (meanY,varianceY)\n",
    "\n"
   ]
  },
  {
   "cell_type": "code",
   "execution_count": 107,
   "metadata": {},
   "outputs": [
    {
     "name": "stdout",
     "output_type": "stream",
     "text": [
      "(10, 204)\n"
     ]
    }
   ],
   "source": [
    "#load gene data og få lagt det ind i arrays, hvis et gene ikke er der sættes dens længde til 0.\n",
    "a = np.array(10*[np.zeros(204)])\n",
    "unique_genes = genes_data.loc[:,'orthId'].unique()\n",
    "\n",
    "for i in range(0,204):\n",
    "    species = tree_data.iloc[i].iloc[4]\n",
    "    extract = genes_data[genes_data['species']==species]\n",
    "    for j in range(0,10):\n",
    "        temp = extract[extract['orthId']==unique_genes[j]]\n",
    "        if len(temp)==1:\n",
    "            a[j,i] = temp['glength']\n",
    "\n",
    "print(a.shape)"
   ]
  },
  {
   "cell_type": "code",
   "execution_count": 108,
   "metadata": {},
   "outputs": [
    {
     "name": "stdout",
     "output_type": "stream",
     "text": [
      "(79319, 71444)\n",
      "(34268, 34783)\n",
      "(15819, 15620)\n",
      "(11326, 10606)\n",
      "(4214, 5194)\n",
      "(23658, 23225)\n",
      "(47796, 47557)\n",
      "(9300, 8967)\n",
      "(21849, 22904)\n",
      "(5201, 4707)\n"
     ]
    }
   ],
   "source": [
    "#inference on gene data\n",
    "for i in range(0,10): \n",
    "    z = inference(tree, alpha_0,variance_0,alpha,beta,variance,a[i])\n",
    "    linRegPred = int(reg.predict(a[i].reshape(1,204)))\n",
    "    print((int(z[0][-1]),linRegPred))"
   ]
  },
  {
   "cell_type": "code",
   "execution_count": 111,
   "metadata": {},
   "outputs": [
    {
     "name": "stdout",
     "output_type": "stream",
     "text": [
      "(87, 49081, 48994)\n",
      "(79, 50515, 50513)\n",
      "(82, 50487, 50370)\n",
      "(85, 49531, 49256)\n",
      "(83, 49613, 49423)\n",
      "(80, 50500, 50342)\n",
      "(78, 51952, 51870)\n",
      "(89, 49287, 49298)\n",
      "(77, 50800, 50517)\n",
      "(83, 50845, 50750)\n"
     ]
    }
   ],
   "source": [
    "#inference on simulated data\n",
    "for i in range(0,10): #n is number of samples in the forward simulaton from part 1\n",
    "    zPred = inference(tree, alpha_0,variance_0,alpha,beta,variance,X[i])[0]\n",
    "    z0Pred = int(zPred[-1])\n",
    "    z0True = int(y[i])\n",
    "    zTrue = Z[i,:]\n",
    "    zDiff = np.abs(zPred-zTrue)\n",
    "    meanDiff = int(np.mean(zDiff))\n",
    "    print((meanDiff,z0Pred,z0True))"
   ]
  },
  {
   "attachments": {},
   "cell_type": "markdown",
   "metadata": {},
   "source": [
    "Part 3"
   ]
  },
  {
   "cell_type": "code",
   "execution_count": 54,
   "metadata": {},
   "outputs": [],
   "source": [
    "# gamma_0 + (alpha * time) (beta * parent gene len) + (gamma * time * parent gene len)\n",
    "\n",
    "# Parameters\n",
    "# for Z_0\n",
    "size = 10000\n",
    "alpha0 = np.random.normal(50000, 500, size=size)\n",
    "variance0 = np.array(size*[5000])\n",
    "\n",
    "# for Z_i and X_i\n",
    "alpha = np.random.normal(0, 500, size=size)\n",
    "beta = np.random.normal(1, 0.3, size=size)\n",
    "variance = np.maximum(np.random.normal(2500,250, size=size),np.ones(size))\n",
    "\n",
    "# Settings\n",
    "root = 407\n",
    "\n",
    "# create a dict graphe\n",
    "graph = create_graph(tree_data)"
   ]
  },
  {
   "cell_type": "code",
   "execution_count": 55,
   "metadata": {},
   "outputs": [
    {
     "name": "stdout",
     "output_type": "stream",
     "text": [
      "21.9369733334 sec\n"
     ]
    }
   ],
   "source": [
    "# Create data\n",
    "t0 = time.time()\n",
    "X, Z = n_simulations(size, root, graph, alpha0, variance0, alpha, beta, variance)\n",
    "runtime = time.time() - t0\n",
    "print(f\"{runtime:.10f} sec\")"
   ]
  },
  {
   "cell_type": "code",
   "execution_count": 56,
   "metadata": {},
   "outputs": [],
   "source": [
    "V = np.concatenate((X,Z),axis=1)\n",
    "train_size = int(size*4/5)\n",
    "\n"
   ]
  },
  {
   "cell_type": "code",
   "execution_count": 57,
   "metadata": {},
   "outputs": [
    {
     "name": "stdout",
     "output_type": "stream",
     "text": [
      "TRAIN. r2: 0.997, MSE: 828.957\n"
     ]
    }
   ],
   "source": [
    "# lin r\n",
    "#X_train, X_test, y_train, y_test = train_test_split(X, y, test_size=0.2)\n",
    "\n",
    "regAlpha = LinearRegression().fit(V[:train_size,:], alpha[:train_size])\n",
    "regBeta = LinearRegression().fit(V[:train_size,:], beta[:train_size])\n",
    "regVariance = LinearRegression().fit(V[:train_size,:], variance[:train_size])\n",
    "\n",
    "# Train results\n",
    "yt_pred = regAlpha.predict(V[train_size:,:])\n",
    "train_r2 = regAlpha.score(V[train_size:,:], alpha[train_size:])\n",
    "train_mse = mean_squared_error(alpha[train_size:], yt_pred)\n",
    "\n",
    "yt_pred1 = regBeta.predict(V[train_size:,:])\n",
    "yt_pred2 = regVariance.predict(V[train_size:,:])\n",
    "\n",
    "\n",
    "print(f\"TRAIN. r2: {train_r2:.3f}, MSE: {train_mse:.3f}\")\n",
    "#print(f\"TEST. r2: {test_r2:.3f}, MSE: {test_mse:.3f}\")"
   ]
  },
  {
   "cell_type": "code",
   "execution_count": 58,
   "metadata": {},
   "outputs": [
    {
     "name": "stdout",
     "output_type": "stream",
     "text": [
      "0.9998501327152961\n",
      "-0.06085210093429927\n",
      "(array([2583.34453136, 2475.73610643, 2464.20703224, ..., 2458.20660089,\n",
      "       2524.02385545, 2518.04575126]), array([2514.80634357, 2313.82111859, 2806.75213997, ..., 2360.00377303,\n",
      "       2251.29245624, 2443.61637503]))\n",
      "0.04812150679544114\n"
     ]
    }
   ],
   "source": [
    "print(regBeta.score(V[train_size:,:],beta[train_size:]))\n",
    "print(regVariance.score(V[train_size:,:],variance[train_size:]))\n",
    "#print((yt_pred1,beta[train_size:]))\n",
    "print((yt_pred2,variance[train_size:]))\n",
    "\n",
    "print(regVariance.score(V[:train_size,:],variance[:train_size]))\n"
   ]
  },
  {
   "cell_type": "code",
   "execution_count": 59,
   "metadata": {},
   "outputs": [],
   "source": [
    "\n",
    "\n",
    "variance_0Pred = 5000\n",
    "alpha_0Pred = 50000\n",
    "alphaPred = 20\n",
    "betaPred = 1\n",
    "variancePred = 2500\n",
    "\n",
    "X1, Ignore = n_simulations(1, root, graph, 50000, 5000, 10, 1.09, 2500)\n",
    "\n",
    "observed_values = X1 #Observed x values"
   ]
  },
  {
   "cell_type": "code",
   "execution_count": 60,
   "metadata": {},
   "outputs": [
    {
     "name": "stdout",
     "output_type": "stream",
     "text": [
      "(1, 204)\n"
     ]
    }
   ],
   "source": [
    "print(X1.shape)"
   ]
  },
  {
   "cell_type": "code",
   "execution_count": 61,
   "metadata": {},
   "outputs": [],
   "source": [
    "for i in range(0, 0):\n",
    "    expectedZ, Ignore = inference(tree, alpha_0Pred,variance_0Pred,alphaPred,betaPred,variancePred,X1)\n",
    "    alpha_0Start = expectedZ[0]\n",
    "    nodes = np.concatenate((observed_values,expectedZ.reshape(1,203)),axis=1)\n",
    "    alphaPred = regAlpha.predict(nodes)[0]\n",
    "    betaPred = regBeta.predict(nodes)[0]\n",
    "    variancePred = 2500#np.maximum(regVariance.predict(nodes)[0],1)\n",
    "    print((alphaPred,betaPred,variancePred))"
   ]
  }
 ],
 "metadata": {
  "kernelspec": {
   "display_name": "Python 3",
   "language": "python",
   "name": "python3"
  },
  "language_info": {
   "codemirror_mode": {
    "name": "ipython",
    "version": 3
   },
   "file_extension": ".py",
   "mimetype": "text/x-python",
   "name": "python",
   "nbconvert_exporter": "python",
   "pygments_lexer": "ipython3",
   "version": "3.9.13"
  },
  "orig_nbformat": 4
 },
 "nbformat": 4,
 "nbformat_minor": 2
}
