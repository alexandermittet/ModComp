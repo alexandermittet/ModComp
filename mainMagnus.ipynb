{
 "cells": [
  {
   "cell_type": "code",
   "execution_count": 34,
   "metadata": {},
   "outputs": [],
   "source": [
    "import time\n",
    "import numpy as np\n",
    "import pandas as pd\n",
    "import matplotlib.pyplot as plt\n",
    "from sklearn.model_selection import train_test_split\n",
    "from sklearn.linear_model import LinearRegression\n",
    "from sklearn.metrics import mean_squared_error, r2_score"
   ]
  },
  {
   "cell_type": "code",
   "execution_count": 35,
   "metadata": {},
   "outputs": [],
   "source": [
    "def create_graph(df) -> dict:\n",
    "    \"\"\"\n",
    "    returns a didct with keys = node key, and values = edges (node_id, edge weight) \n",
    "    \"\"\"\n",
    "    tree = {}\n",
    "    for _, row in df.iterrows():\n",
    "        parent = row['Parent']\n",
    "        child = row['Child']\n",
    "        weight = row['t']\n",
    "\n",
    "        # root node\n",
    "        if pd.isna(parent): \n",
    "            continue\n",
    "        # node already exists\n",
    "        elif parent in tree: \n",
    "            tree[parent].append((child, weight))\n",
    "        # node does not exists\n",
    "        else:\n",
    "            tree[parent] = [(child, weight)]\n",
    "    return tree\n",
    "\n",
    "\n",
    "def pd_z0():\n",
    "    return max(np.random.normal(alpha_0, np.sqrt(variance_0)), 1)\n",
    "\n",
    "\n",
    "def cpd(z, t):\n",
    "    mean = (alpha * t) + (beta * z)\n",
    "    var = variance * t\n",
    "    return max(np.random.normal(mean, np.sqrt(var)), 1)\n",
    "\n",
    "\n",
    "def simulation(root: int, graph: dict, alpha0, variance0, alpha, beta, variance) -> dict:\n",
    "    \"\"\"\n",
    "    BFS\n",
    "    returns z value for all 407 nodes\n",
    "    \"\"\"\n",
    "    gene_lengths = {}\n",
    "    \n",
    "    z0 = max(np.random.normal(alpha0, np.sqrt(variance0)), 1)\n",
    "    queue = [(root, z0)]\n",
    "\n",
    "    while queue:\n",
    "        # handle the next element in queue\n",
    "        node, z = queue.pop(0)\n",
    "        \n",
    "        # set node in results in genelength z\n",
    "        gene_lengths[node] = z\n",
    "        \n",
    "        # get all children for the node\n",
    "        children = graph.get(node, [])\n",
    "\n",
    "        if not children:\n",
    "            continue\n",
    "        else:\n",
    "            # for all the children for this node calculate their z\n",
    "            # since we know it's a tree, only the parent can have influence\n",
    "            for child in children:\n",
    "                id, t = child\n",
    "                t = round(t, 3)\n",
    "                \n",
    "                # draw a sample\n",
    "                mean = (alpha * t) + (beta * z)\n",
    "                var = variance * t\n",
    "                \n",
    "                    \n",
    "                cpd_z = max(np.random.normal(mean, np.sqrt(var)), 1)\n",
    "                #print(f\"id:{id}, t:{t}, var:{var}, std:{np.sqrt(var)}, mean:{mean}, cpd:{cpd_z}\")\n",
    "                #if id == 205:\n",
    "                #    print(var)\n",
    "                #    print(mean)\n",
    "                #    print(cpd_z)\n",
    "                # append child to queue\n",
    "                queue.append((id, cpd_z))\n",
    "\n",
    "    return gene_lengths\n",
    "\n",
    "\n",
    "def n_simulations(n, root, graph, alpha0, variance0, alpha, beta, variance) -> tuple:\n",
    "    \"\"\"\n",
    "    Returns results for X=X1 ... X204 n times, and y=Z0 n times s\n",
    "    \"\"\"\n",
    "    X = np.empty((n, 204))\n",
    "    Z = np.empty((n, 203))\n",
    "    y = np.empty(n)\n",
    "    \n",
    "    for i in range(n):\n",
    "        if type(alpha0) == np.dtype('object_'): \n",
    "            results = simulation(root=root, graph=graph, alpha0=alpha0[i], variance0=variance0[i], alpha=alpha[i], beta=beta[i], variance=variance[i])\n",
    "        else:\n",
    "            results = simulation(root=root, graph=graph, alpha0=alpha0, variance0=variance0, alpha=alpha, beta=beta, variance=variance)\n",
    "        # extract the first 204 values from the dictionary and add them to X as a row\n",
    "        row_X = [results[key] for key in range(1, 205)]\n",
    "        row_Z = [results[key] for key in range(205, 408)]\n",
    "        \n",
    "        X[i] = np.array(row_X)\n",
    "        Z[i] = np.array(row_Z)\n",
    "        \n",
    "        \n",
    "    return X, Z\n",
    "\n",
    "\n",
    "\n",
    "def dfs_paths_with_cpd(graph, start_node, z, path=None):\n",
    "    # returns all paths and the gene length at each node in the path\n",
    "    if path is None:\n",
    "        path = [(start_node, z)]\n",
    "\n",
    "    if start_node not in graph:\n",
    "        return [path]\n",
    "\n",
    "    paths = []\n",
    "    for child, t in graph[start_node]:\n",
    "        if child not in [node for node, _ in path]:\n",
    "            new_z = cpd(z, t)\n",
    "            child_paths = dfs_paths_with_cpd(graph, child, new_z, path + [(child, new_z)])\n",
    "            paths.extend(child_paths)\n",
    "\n",
    "    return paths"
   ]
  },
  {
   "cell_type": "code",
   "execution_count": 36,
   "metadata": {},
   "outputs": [],
   "source": [
    "# load data\n",
    "tree_data = pd.read_csv('data/tree.csv')\n",
    "genes_data = pd.read_csv('data/vert_genes.csv')\n",
    "\n",
    "# remove root node, since we already have reference to it from else where. unless issue with t?\n",
    "tree_data = tree_data[tree_data['Parent'].notna()]\n",
    "\n",
    "# convert parent col to ints\n",
    "tree_data['Parent'] = tree_data['Parent'].astype(int)"
   ]
  },
  {
   "cell_type": "code",
   "execution_count": 37,
   "metadata": {},
   "outputs": [],
   "source": [
    "# gamma_0 + (alpha * time) (beta * parent gene len) + (gamma * time * parent gene len)\n",
    "\n",
    "# Parameters\n",
    "# for Z_0\n",
    "alpha_0 = 50000\n",
    "variance_0 = 5000\n",
    "\n",
    "# for Z_i and X_i\n",
    "alpha = 0.15\n",
    "beta = 1.05\n",
    "variance = 2500 \n",
    "\n",
    "# Settings\n",
    "root = 407\n",
    "num_of_samples = 10000\n",
    "\n",
    "# create a dict graph\n",
    "graph = create_graph(tree_data)"
   ]
  },
  {
   "cell_type": "code",
   "execution_count": 38,
   "metadata": {},
   "outputs": [
    {
     "name": "stdout",
     "output_type": "stream",
     "text": [
      "19.1955170631 sec\n"
     ]
    }
   ],
   "source": [
    "# Create data\n",
    "t0 = time.time()\n",
    "X, Z = n_simulations(num_of_samples, root, graph, alpha_0, variance_0, alpha, beta, variance)\n",
    "runtime = time.time() - t0\n",
    "print(f\"{runtime:.10f} sec\")"
   ]
  },
  {
   "cell_type": "code",
   "execution_count": 39,
   "metadata": {},
   "outputs": [],
   "source": [
    "y = Z[:,-1]"
   ]
  },
  {
   "cell_type": "code",
   "execution_count": 40,
   "metadata": {},
   "outputs": [
    {
     "name": "stdout",
     "output_type": "stream",
     "text": [
      "(10000, 204)\n",
      "(10000,)\n"
     ]
    }
   ],
   "source": [
    "print(X.shape)\n",
    "print(y.shape)"
   ]
  },
  {
   "cell_type": "code",
   "execution_count": 41,
   "metadata": {},
   "outputs": [
    {
     "name": "stdout",
     "output_type": "stream",
     "text": [
      "TRAIN. r2: 0.358, MSE: 3225.341\n",
      "TEST. r2: 0.327, MSE: 3246.622\n"
     ]
    }
   ],
   "source": [
    "# lin reg\n",
    "X_train, X_test, y_train, y_test = train_test_split(X, y, test_size=0.2)\n",
    "reg = LinearRegression().fit(X_train, y_train)\n",
    "\n",
    "# Train results\n",
    "yt_pred = reg.predict(X_train)\n",
    "train_r2 = reg.score(X_train, y_train)\n",
    "train_mse = mean_squared_error(y_train, yt_pred)\n",
    "\n",
    "# Test results\n",
    "y_pred = reg.predict(X_test)\n",
    "test_r2 = r2_score(y_test, y_pred)\n",
    "test_mse = mean_squared_error(y_test, y_pred)\n",
    "\n",
    "print(f\"TRAIN. r2: {train_r2:.3f}, MSE: {train_mse:.3f}\")\n",
    "print(f\"TEST. r2: {test_r2:.3f}, MSE: {test_mse:.3f}\")"
   ]
  },
  {
   "cell_type": "code",
   "execution_count": 42,
   "metadata": {},
   "outputs": [
    {
     "data": {
      "image/png": "[encoded data removed]",
      "text/plain": [
       "<Figure size 432x288 with 1 Axes>"
      ]
     },
     "metadata": {
      "needs_background": "light"
     },
     "output_type": "display_data"
    }
   ],
   "source": [
    "plt.hist(X.flatten(), bins=int(num_of_samples/10))\n",
    "\n",
    "plt.xlabel('Gene length')\n",
    "plt.ylabel('Frequency')\n",
    "plt.title(f'Histogram of gene lengths, runs: {num_of_samples}')\n",
    "plt.show()"
   ]
  },
  {
   "cell_type": "code",
   "execution_count": 43,
   "metadata": {},
   "outputs": [
    {
     "data": {
      "image/png": "[encoded data removed]",
      "text/plain": [
       "<Figure size 432x288 with 1 Axes>"
      ]
     },
     "metadata": {
      "needs_background": "light"
     },
     "output_type": "display_data"
    }
   ],
   "source": [
    "# all paths with their respective z values at each node in the path\n",
    "paths_with_z = dfs_paths_with_cpd(graph=graph, start_node=407, z=pd_z0())\n",
    "\n",
    "# plot development of gene length for all paths\n",
    "# longest = max(paths_with_z, key=len)  # plot the path with the most ancestors\n",
    "for index, path in enumerate(paths_with_z):\n",
    "    ys = [y[1] for y in path]\n",
    "    plt.scatter(range(len(ys)), ys)\n",
    "\n",
    "plt.xlabel('number of ancestors at node')\n",
    "plt.ylabel('gene lengths')\n",
    "plt.title('Development of gene length over ancestor nodes')\n",
    "plt.show()"
   ]
  },
  {
   "cell_type": "code",
   "execution_count": 44,
   "metadata": {},
   "outputs": [],
   "source": [
    "# load data\n",
    "treedat = pd.read_csv('data/tree.csv')\n",
    "genesdat = pd.read_csv('data/vert_genes.csv')"
   ]
  },
  {
   "cell_type": "code",
   "execution_count": 45,
   "metadata": {},
   "outputs": [
    {
     "data": {
      "text/plain": [
       "205"
      ]
     },
     "execution_count": 45,
     "metadata": {},
     "output_type": "execute_result"
    }
   ],
   "source": [
    "# 205 from the nan present\n",
    "len(treedat['species'].unique())"
   ]
  },
  {
   "cell_type": "code",
   "execution_count": 46,
   "metadata": {},
   "outputs": [
    {
     "data": {
      "text/plain": [
       "204"
      ]
     },
     "execution_count": 46,
     "metadata": {},
     "output_type": "execute_result"
    }
   ],
   "source": [
    "len(genesdat['species'].unique())"
   ]
  },
  {
   "cell_type": "code",
   "execution_count": 47,
   "metadata": {},
   "outputs": [
    {
     "data": {
      "text/plain": [
       "10"
      ]
     },
     "execution_count": 47,
     "metadata": {},
     "output_type": "execute_result"
    }
   ],
   "source": [
    "len(genesdat['orthId'].unique())"
   ]
  },
  {
   "cell_type": "code",
   "execution_count": 48,
   "metadata": {},
   "outputs": [
    {
     "data": {
      "text/plain": [
       "False"
      ]
     },
     "execution_count": 48,
     "metadata": {},
     "output_type": "execute_result"
    }
   ],
   "source": [
    "# group species by the orthid\n",
    "grouped = genesdat.groupby('orthId')['species'].agg(list).reset_index()\n",
    "grouped['species'][4] == grouped['species'][2]"
   ]
  },
  {
   "cell_type": "code",
   "execution_count": 49,
   "metadata": {},
   "outputs": [
    {
     "data": {
      "text/plain": [
       "['Acanthisitta_chloris',\n",
       " 'Anas_platyrhynchos',\n",
       " 'Anser_cygnoides',\n",
       " 'Apaloderma_vittatum',\n",
       " 'Aptenodytes_forsteri',\n",
       " 'Apteryx_australis',\n",
       " 'Aquila_chrysaetos',\n",
       " 'Balearica_regulorum',\n",
       " 'Buceros_rhinoceros',\n",
       " 'Calidris_pugnax',\n",
       " 'Calypte_anna',\n",
       " 'Caprimulgus_carolinensis',\n",
       " 'Cariama_cristata',\n",
       " 'Chaetura_pelagica',\n",
       " 'Charadrius_vociferus',\n",
       " 'Chlamydotis_macqueenii',\n",
       " 'Colius_striatus',\n",
       " 'Columba_livia',\n",
       " 'Corvus_brachyrhynchos',\n",
       " 'Corvus_cornix',\n",
       " 'Coturnix_japonica',\n",
       " 'Cuculus_canorus',\n",
       " 'Egretta_garzetta',\n",
       " 'Eurypyga_helias',\n",
       " 'Falco_cherrug',\n",
       " 'Falco_peregrinus',\n",
       " 'Ficedula_albicollis',\n",
       " 'Fulmarus_glacialis',\n",
       " 'Gallus_gallus',\n",
       " 'Gavia_stellata',\n",
       " 'Geospiza_fortis',\n",
       " 'Haliaeetus_albicilla',\n",
       " 'Haliaeetus_leucocephalus',\n",
       " 'Lepidothrix_coronata',\n",
       " 'Leptosomus_discolor',\n",
       " 'Meleagris_gallopavo',\n",
       " 'Melopsittacus_undulatus',\n",
       " 'Merops_nubicus',\n",
       " 'Mesitornis_unicolor',\n",
       " 'Nestor_notabilis',\n",
       " 'Nipponia_nippon',\n",
       " 'Opisthocomus_hoazin',\n",
       " 'Parus_major',\n",
       " 'Pelecanus_crispus',\n",
       " 'Phaethon_lepturus',\n",
       " 'Phalacrocorax_carbo',\n",
       " 'Picoides_pubescens',\n",
       " 'Pseudopodoces_humilis',\n",
       " 'Pterocles_gutturalis',\n",
       " 'Pygoscelis_adeliae',\n",
       " 'Serinus_canaria',\n",
       " 'Struthio_camelus',\n",
       " 'Sturnus_vulgaris',\n",
       " 'Taeniopygia_guttata',\n",
       " 'Tauraco_erythrolophus',\n",
       " 'Tinamus_guttatus',\n",
       " 'Tyto_alba',\n",
       " 'Astyanax_mexicanus',\n",
       " 'Austrofundulus_limnaeus',\n",
       " 'Clupea_harengus',\n",
       " 'Cynoglossus_semilaevis',\n",
       " 'Cyprinodon_variegatus',\n",
       " 'Danio_rerio',\n",
       " 'Esox_lucius',\n",
       " 'Fundulus_heteroclitus',\n",
       " 'Haplochromis_burtoni',\n",
       " 'Ictalurus_punctatus',\n",
       " 'Kryptolebias_marmoratus',\n",
       " 'Larimichthys_crocea',\n",
       " 'Lates_calcarifer',\n",
       " 'Lepisosteus_oculatus',\n",
       " 'Maylandia_zebra',\n",
       " 'Neolamprologus_brichardi',\n",
       " 'Nothobranchius_furzeri',\n",
       " 'Notothenia_coriiceps',\n",
       " 'Oreochromis_niloticus',\n",
       " 'Oryzias_latipes',\n",
       " 'Poecilia_formosa',\n",
       " 'Poecilia_latipinna',\n",
       " 'Poecilia_mexicana',\n",
       " 'Poecilia_reticulata',\n",
       " 'Pundamilia_nyererei',\n",
       " 'Pygocentrus_nattereri',\n",
       " 'Salmo_salar',\n",
       " 'Scleropages_formosus',\n",
       " 'Sinocyclocheilus_anshuiensis',\n",
       " 'Sinocyclocheilus_grahami',\n",
       " 'Sinocyclocheilus_rhinocerous',\n",
       " 'Stegastes_partitus',\n",
       " 'Takifugu_rubripes',\n",
       " 'Xiphophorus_maculatus',\n",
       " 'Acinonyx_jubatus',\n",
       " 'Ailuropoda_melanoleuca',\n",
       " 'Aotus_nancymaae',\n",
       " 'Balaenoptera_acutorostrata',\n",
       " 'Bison_bison',\n",
       " 'Bos_mutus',\n",
       " 'Bos_taurus',\n",
       " 'Bubalus_bubalis',\n",
       " 'Callithrix_jacchus',\n",
       " 'Camelus_bactrianus',\n",
       " 'Camelus_dromedarius',\n",
       " 'Camelus_ferus',\n",
       " 'Canis_lupus',\n",
       " 'Capra_hircus',\n",
       " 'Carlito_syrichta',\n",
       " 'Cavia_porcellus',\n",
       " 'Cebus_capucinus',\n",
       " 'Ceratotherium_simum',\n",
       " 'Cercocebus_atys',\n",
       " 'Chinchilla_lanigera',\n",
       " 'Chlorocebus_sabaeus',\n",
       " 'Chrysochloris_asiatica',\n",
       " 'Colobus_angolensis',\n",
       " 'Condylura_cristata',\n",
       " 'Cricetulus_griseus',\n",
       " 'Dasypus_novemcinctus',\n",
       " 'Dipodomys_ordii',\n",
       " 'Echinops_telfairi',\n",
       " 'Elephantulus_edwardii',\n",
       " 'Eptesicus_fuscus',\n",
       " 'Equus_asinus',\n",
       " 'Equus_caballus',\n",
       " 'Equus_przewalskii',\n",
       " 'Erinaceus_europaeus',\n",
       " 'Felis_catus',\n",
       " 'Fukomys_damarensis',\n",
       " 'Galeopterus_variegatus',\n",
       " 'Gorilla_gorilla',\n",
       " 'Heterocephalus_glaber',\n",
       " 'Homo_sapiens',\n",
       " 'Ictidomys_tridecemlineatus',\n",
       " 'Jaculus_jaculus',\n",
       " 'Leptonychotes_weddellii',\n",
       " 'Lipotes_vexillifer',\n",
       " 'Loxodonta_africana',\n",
       " 'Macaca_fascicularis',\n",
       " 'Macaca_mulatta',\n",
       " 'Macaca_nemestrina',\n",
       " 'Manacus_vitellinus',\n",
       " 'Mandrillus_leucophaeus',\n",
       " 'Manis_javanica',\n",
       " 'Marmota_marmota',\n",
       " 'Mesocricetus_auratus',\n",
       " 'Microcebus_murinus',\n",
       " 'Microtus_ochrogaster',\n",
       " 'Miniopterus_natalensis',\n",
       " 'Monodelphis_domestica',\n",
       " 'Mus_musculus',\n",
       " 'Mustela_putorius',\n",
       " 'Myotis_brandtii',\n",
       " 'Myotis_davidii',\n",
       " 'Myotis_lucifugus',\n",
       " 'Nannospalax_galili',\n",
       " 'Nomascus_leucogenys',\n",
       " 'Ochotona_princeps',\n",
       " 'Octodon_degus',\n",
       " 'Odobenus_rosmarus',\n",
       " 'Orcinus_orca',\n",
       " 'Ornithorhynchus_anatinus',\n",
       " 'Orycteropus_afer',\n",
       " 'Oryctolagus_cuniculus',\n",
       " 'Otolemur_garnettii',\n",
       " 'Ovis_aries',\n",
       " 'Pan_paniscus',\n",
       " 'Pan_troglodytes',\n",
       " 'Panthera_tigris',\n",
       " 'Pantholops_hodgsonii',\n",
       " 'Papio_anubis',\n",
       " 'Peromyscus_maniculatus',\n",
       " 'Physeter_catodon',\n",
       " 'Pongo_abelii',\n",
       " 'Propithecus_coquereli',\n",
       " 'Pteropus_alecto',\n",
       " 'Pteropus_vampyrus',\n",
       " 'Rattus_norvegicus',\n",
       " 'Rhinopithecus_bieti',\n",
       " 'Rhinopithecus_roxellana',\n",
       " 'Rousettus_aegyptiacus',\n",
       " 'Saimiri_boliviensis',\n",
       " 'Sarcophilus_harrisii',\n",
       " 'Sorex_araneus',\n",
       " 'Sus_scrofa',\n",
       " 'Trichechus_manatus',\n",
       " 'Tupaia_chinensis',\n",
       " 'Tursiops_truncatus',\n",
       " 'Ursus_maritimus',\n",
       " 'Vicugna_pacos',\n",
       " 'Alligator_mississippiensis',\n",
       " 'Alligator_sinensis',\n",
       " 'Anolis_carolinensis',\n",
       " 'Callorhinchus_milii',\n",
       " 'Chelonia_mydas',\n",
       " 'Chrysemys_picta',\n",
       " 'Gekko_japonicus',\n",
       " 'Latimeria_chalumnae',\n",
       " 'Nanorana_parkeri',\n",
       " 'Pelodiscus_sinensis',\n",
       " 'Protobothrops_mucrosquamatus',\n",
       " 'Python_bivittatus',\n",
       " 'Thamnophis_sirtalis',\n",
       " 'Xenopus_laevis',\n",
       " 'Xenopus_tropicalis']"
      ]
     },
     "execution_count": 49,
     "metadata": {},
     "output_type": "execute_result"
    }
   ],
   "source": [
    "grouped['species'][0]  # gene 0"
   ]
  },
  {
   "attachments": {},
   "cell_type": "markdown",
   "metadata": {},
   "source": [
    "PART 2"
   ]
  },
  {
   "cell_type": "code",
   "execution_count": 50,
   "metadata": {},
   "outputs": [
    {
     "name": "stdout",
     "output_type": "stream",
     "text": [
      "     Parent  Child     age_ch          t                 species\n",
      "0     222.0      1   0.000000   9.000250  Peromyscus_maniculatus\n",
      "1     222.0      2   0.000000   9.000250            Mus_musculus\n",
      "2     221.0      3   0.000000  12.172706      Cricetulus_griseus\n",
      "3     220.0      4   0.000000  14.684269       Rattus_norvegicus\n",
      "4     219.0      5   0.000000  17.062881    Mesocricetus_auratus\n",
      "..      ...    ...        ...        ...                     ...\n",
      "402   399.0    403   7.861905   1.640772                     NaN\n",
      "403   403.0    404   5.750020   2.111885                     NaN\n",
      "404   404.0    405   5.500000   0.250020                     NaN\n",
      "405   403.0    406   5.000000   2.861905                     NaN\n",
      "406     NaN    407  50.024697   2.091292                     NaN\n",
      "\n",
      "[407 rows x 5 columns]\n",
      "        ensembl_id orthId  glength                       species\n",
      "0     XP_009078534  1CPN2    66213          Acanthisitta_chloris\n",
      "1     XP_005013863  1CPN2    44913            Anas_platyrhynchos\n",
      "2     XP_013048300  1CPN2   157799               Anser_cygnoides\n",
      "3     XP_009872504  1CPN2    67073           Apaloderma_vittatum\n",
      "4     XP_009281355  1CPN2    95046          Aptenodytes_forsteri\n",
      "...            ...    ...      ...                           ...\n",
      "2003  XP_014432008  1D3F1    10246           Pelodiscus_sinensis\n",
      "2004  XP_015672951  1D3F1     2030  Protobothrops_mucrosquamatus\n",
      "2005  XP_007438344  1D3F1     6591             Python_bivittatus\n",
      "2006  XP_018082244  1D3F1     3471                Xenopus_laevis\n",
      "2007  XP_017946504  1D3F1     3220            Xenopus_tropicalis\n",
      "\n",
      "[2008 rows x 4 columns]\n"
     ]
    }
   ],
   "source": [
    "# load data\n",
    "tree_data = pd.read_csv('data/tree.csv')\n",
    "genes_data = pd.read_csv('data/vert_genes.csv')\n",
    "\n",
    "print(tree_data)\n",
    "print(genes_data)\n"
   ]
  },
  {
   "cell_type": "code",
   "execution_count": 51,
   "metadata": {},
   "outputs": [],
   "source": [
    "class Node:\n",
    "    def __init__(self,data):\n",
    "        self.l = None\n",
    "        self.r = None\n",
    "        self.data = data\n",
    "        "
   ]
  },
  {
   "cell_type": "code",
   "execution_count": 52,
   "metadata": {},
   "outputs": [],
   "source": [
    "def create_tree(root):\n",
    "    children = tree_data[tree_data['Parent']==root]\n",
    "    node = Node(tree_data[tree_data['Child']==root])\n",
    "    if len(children)>0:\n",
    "        for i in range(0, len(children)):\n",
    "            if i == 0:\n",
    "                node.l = create_tree(children.iloc[1].iloc[1])\n",
    "            else:\n",
    "                node.r = create_tree(children.iloc[0].iloc[1])\n",
    "        return node\n",
    "    else:\n",
    "        return node"
   ]
  },
  {
   "cell_type": "code",
   "execution_count": 53,
   "metadata": {},
   "outputs": [
    {
     "name": "stdout",
     "output_type": "stream",
     "text": [
      "[[ 88338. 219992.  89972. ...   4568.   4239.  66937.]\n",
      " [ 30935.  31081.  40971. ...  34954.  33799.  31589.]\n",
      " [ 21555.  20662.  12707. ...   8561.   8475.      0.]\n",
      " ...\n",
      " [ 19977.  21211.  24187. ...   3964.      0.      0.]\n",
      " [ 16494.  15176.  16651. ...   7387.  19106.  18206.]\n",
      " [ 29924.   8341.   6260. ...   1881.   1852.   1778.]]\n",
      "(10, 204)\n"
     ]
    }
   ],
   "source": [
    "#load gene data og få lagt det ind i arrays, hvis et gene ikke er der sættes dens længde til 0.\n",
    "a = np.array(10*[np.zeros(204)])\n",
    "unique_genes = genes_data.loc[:,'orthId'].unique()\n",
    "\n",
    "for i in range(0,204):\n",
    "    species = tree_data.iloc[i].iloc[4]\n",
    "    extract = genes_data[genes_data['species']==species]\n",
    "    for j in range(0,10):\n",
    "        temp = extract[extract['orthId']==unique_genes[j]]\n",
    "        if len(temp)==1:\n",
    "            a[j,i] = temp['glength']\n",
    "\n",
    "print(a)\n",
    "print(a.shape)"
   ]
  },
  {
   "cell_type": "code",
   "execution_count": 54,
   "metadata": {},
   "outputs": [],
   "source": [
    "def meanCovariance(tree, mean, covariance,alpha,beta,variance):\n",
    "    if tree != None:\n",
    "        index = int(tree.data.iloc[0].iloc[1])\n",
    "        t = int(tree.data.iloc[0].iloc[3])\n",
    "        parent = int(tree.data.iloc[0].iloc[0])\n",
    "        mean[index-1] = mean[parent-1]*beta+alpha*t\n",
    "\n",
    "        covariance[index-1,:] = covariance[parent-1,:]*beta \n",
    "        covariance[:,index-1] = covariance[parent-1,:]*beta \n",
    "\n",
    "        covariance[index-1,index-1] = variance*t+beta*covariance[parent-1,parent-1]\n",
    "        '''covariance[index-1,parent-1] = beta**2*covariance[parent-1,parent-1]\n",
    "        covariance[parent-1,index-1] = beta**2*covariance[parent-1,parent-1]'''\n",
    "        meanCovariance(tree.l,mean,covariance,alpha,beta,variance)\n",
    "        meanCovariance(tree.r,mean,covariance,alpha,beta,variance)\n",
    "    else:\n",
    "        return\n"
   ]
  },
  {
   "cell_type": "code",
   "execution_count": 117,
   "metadata": {},
   "outputs": [],
   "source": [
    "def inference(tree, alpha_0,variance_0,alpha,beta,variance):\n",
    "    mean = np.zeros(407)\n",
    "    covariance = np.array(407*[np.zeros(407)])\n",
    "\n",
    "    mean[406] = alpha_0\n",
    "    covariance[406,406] = variance_0\n",
    "    meanCovariance(tree.l,mean,covariance,alpha,beta,variance)\n",
    "    meanCovariance(tree.r,mean,covariance,alpha,beta,variance)\n",
    "\n",
    "    J = np.linalg.pinv(covariance)\n",
    "    h = np.matmul(J,mean)\n",
    "\n",
    "    meanY = np.zeros(203)\n",
    "    varianceY = np.zeros(203)\n",
    "\n",
    "    for j in range(204,407):\n",
    "        sigmaYX = covariance[j,:204]\n",
    "        sigmaXY = covariance[:204,j]\n",
    "        sigmaXX = np.linalg.inv(covariance[:204,:204])\n",
    "        meanY[j-204] = np.floor(mean[j]+np.matmul(np.matmul(sigmaYX,sigmaXX),a[0]-mean[:204]))\n",
    "        varianceY[j-204] = np.floor(covariance[j,j]-np.matmul(np.matmul(sigmaYX,sigmaXX),sigmaXY))\n",
    "    return (meanY,varianceY)\n"
   ]
  },
  {
   "attachments": {},
   "cell_type": "markdown",
   "metadata": {},
   "source": [
    "Part 3"
   ]
  },
  {
   "cell_type": "code",
   "execution_count": 159,
   "metadata": {},
   "outputs": [],
   "source": [
    "# gamma_0 + (alpha * time) (beta * parent gene len) + (gamma * time * parent gene len)\n",
    "\n",
    "# Parameters\n",
    "# for Z_0\n",
    "size = 5000\n",
    "alpha0 = np.random.normal(50000, 500, size=size)\n",
    "variance0 = np.array(size*[5000])\n",
    "\n",
    "# for Z_i and X_i\n",
    "alpha = np.random.normal(0, 50, size=size)\n",
    "beta = np.random.normal(1, 0.1, size=size)\n",
    "variance = np.maximum(np.random.normal(25000, 1000, size=size),np.ones(size))\n",
    "\n",
    "# Settings\n",
    "root = 407\n",
    "\n",
    "# create a dict graphe\n",
    "graph = create_graph(tree_data)"
   ]
  },
  {
   "cell_type": "code",
   "execution_count": 160,
   "metadata": {},
   "outputs": [
    {
     "name": "stdout",
     "output_type": "stream",
     "text": [
      "10.5432503223 sec\n"
     ]
    }
   ],
   "source": [
    "# Create data\n",
    "t0 = time.time()\n",
    "X, Z = n_simulations(size, root, graph, alpha0, variance0, alpha, beta, variance)\n",
    "runtime = time.time() - t0\n",
    "print(f\"{runtime:.10f} sec\")"
   ]
  },
  {
   "cell_type": "code",
   "execution_count": 161,
   "metadata": {},
   "outputs": [],
   "source": [
    "V = np.concatenate((X,Z),axis=1)"
   ]
  },
  {
   "cell_type": "code",
   "execution_count": 162,
   "metadata": {},
   "outputs": [
    {
     "name": "stdout",
     "output_type": "stream",
     "text": [
      "TRAIN. r2: 0.993, MSE: 16.379\n"
     ]
    }
   ],
   "source": [
    "# lin r\n",
    "#X_train, X_test, y_train, y_test = train_test_split(X, y, test_size=0.2)\n",
    "\n",
    "regAlpha = LinearRegression().fit(V, alpha)\n",
    "regBeta = LinearRegression().fit(V, beta)\n",
    "regVariance = LinearRegression().fit(V, variance)\n",
    "\n",
    "# Train results\n",
    "yt_pred = regAlpha.predict(V)\n",
    "train_r2 = regAlpha.score(V, alpha)\n",
    "train_mse = mean_squared_error(alpha, yt_pred)\n",
    "\n",
    "yt_pred1 = regBeta.predict(V)\n",
    "yt_pred2 = regVariance.predict(V)\n",
    "# Test results\n",
    "y_pred = reg.predict(X_test)\n",
    "test_r2 = r2_score(y_test, y_pred)\n",
    "test_mse = mean_squared_error(y_test, y_pred)\n",
    "\n",
    "print(f\"TRAIN. r2: {train_r2:.3f}, MSE: {train_mse:.3f}\")\n",
    "#print(f\"TEST. r2: {test_r2:.3f}, MSE: {test_mse:.3f}\")"
   ]
  },
  {
   "cell_type": "code",
   "execution_count": 163,
   "metadata": {},
   "outputs": [
    {
     "name": "stdout",
     "output_type": "stream",
     "text": [
      "[ 66.09457048 -42.80739149 -44.65418611 ...  82.14841051 -31.56718044\n",
      "   7.00096819]\n",
      "[ 64.62139318 -44.41613298 -49.59473118 ...  86.46184329 -30.49406818\n",
      "   3.03912979]\n",
      "0.9993211315132571\n",
      "0.08543040604565189\n",
      "(array([0.9092835 , 0.93198748, 0.98605122, ..., 0.90568379, 1.09121374,\n",
      "       1.102306  ]), array([0.90880083, 0.93166246, 0.98591909, ..., 0.90597795, 1.0924344 ,\n",
      "       1.10294174]))\n",
      "(array([24546.75180182, 24808.8470626 , 25011.96009181, ...,\n",
      "       24599.92428992, 25117.66156974, 25204.84345077]), array([24688.91087304, 22489.23164072, 26920.72019001, ...,\n",
      "       25111.49799032, 25087.22125636, 25894.65875995]))\n"
     ]
    }
   ],
   "source": [
    "print(yt_pred)\n",
    "print(alpha)\n",
    "\n",
    "print(regBeta.score(V,beta))\n",
    "print(regVariance.score(V,variance))\n",
    "print((yt_pred1,beta))\n",
    "print((yt_pred2,variance))\n"
   ]
  },
  {
   "cell_type": "code",
   "execution_count": 164,
   "metadata": {},
   "outputs": [
    {
     "name": "stdout",
     "output_type": "stream",
     "text": [
      "(1, 204)\n"
     ]
    }
   ],
   "source": [
    "tree = create_tree(407)\n",
    "\n",
    "variance_0Pred = 5000\n",
    "alpha_0Pred = 50000\n",
    "alphaPred = 0\n",
    "betaPred = 1.01\n",
    "variancePred = 2500\n",
    "\n",
    "X, Ignore = n_simulations(1, root, graph, 50000, 5000, 0, 1, 2500)\n",
    "print(X.shape)\n",
    "observed_values = X #Observed x values"
   ]
  },
  {
   "cell_type": "code",
   "execution_count": null,
   "metadata": {},
   "outputs": [],
   "source": []
  },
  {
   "cell_type": "code",
   "execution_count": 165,
   "metadata": {},
   "outputs": [
    {
     "name": "stdout",
     "output_type": "stream",
     "text": [
      "(array([-4680.83114637]), array([1.7046091]), -42580.36815965979)\n",
      "(array([-3800.89976092]), array([0.77511287]), -41031.600269135815)\n",
      "(array([-5648.45982328]), array([2.08355491]), -82753.4007575958)\n",
      "(array([-3670.21171665]), array([25.11255522]), 594729.2787158188)\n",
      "(array([-2.07210744e+53]), array([3.66115935e+51]), 3.1618389989630583e+56)\n"
     ]
    },
    {
     "name": "stderr",
     "output_type": "stream",
     "text": [
      "C:\\Users\\magnu\\AppData\\Local\\Temp\\ipykernel_19888\\540871480.py:6: RuntimeWarning: overflow encountered in multiply\n",
      "  mean[index-1] = mean[parent-1]*beta+alpha*t\n",
      "C:\\Users\\magnu\\AppData\\Local\\Temp\\ipykernel_19888\\540871480.py:8: RuntimeWarning: overflow encountered in multiply\n",
      "  covariance[index-1,:] = covariance[parent-1,:]*beta\n",
      "C:\\Users\\magnu\\AppData\\Local\\Temp\\ipykernel_19888\\540871480.py:9: RuntimeWarning: overflow encountered in multiply\n",
      "  covariance[:,index-1] = covariance[parent-1,:]*beta\n",
      "C:\\Users\\magnu\\AppData\\Local\\Temp\\ipykernel_19888\\540871480.py:11: RuntimeWarning: overflow encountered in multiply\n",
      "  covariance[index-1,index-1] = variance*t+beta*covariance[parent-1,parent-1]\n"
     ]
    },
    {
     "ename": "LinAlgError",
     "evalue": "SVD did not converge",
     "output_type": "error",
     "traceback": [
      "\u001b[1;31m---------------------------------------------------------------------------\u001b[0m",
      "\u001b[1;31mLinAlgError\u001b[0m                               Traceback (most recent call last)",
      "\u001b[1;32mc:\\Users\\magnu\\Documents\\GitHub\\ModComp-bois\\mainMagnus.ipynb Cell 32\u001b[0m in \u001b[0;36m<cell line: 1>\u001b[1;34m()\u001b[0m\n\u001b[0;32m      <a href='vscode-notebook-cell:/c%3A/Users/magnu/Documents/GitHub/ModComp-bois/mainMagnus.ipynb#Y112sZmlsZQ%3D%3D?line=0'>1</a>\u001b[0m \u001b[39mfor\u001b[39;00m i \u001b[39min\u001b[39;00m \u001b[39mrange\u001b[39m(\u001b[39m0\u001b[39m, \u001b[39m10\u001b[39m):\n\u001b[1;32m----> <a href='vscode-notebook-cell:/c%3A/Users/magnu/Documents/GitHub/ModComp-bois/mainMagnus.ipynb#Y112sZmlsZQ%3D%3D?line=1'>2</a>\u001b[0m     expectedZ, Ignore \u001b[39m=\u001b[39m inference(tree, alpha_0Pred,variance_0Pred,alphaPred,betaPred,variancePred)\n\u001b[0;32m      <a href='vscode-notebook-cell:/c%3A/Users/magnu/Documents/GitHub/ModComp-bois/mainMagnus.ipynb#Y112sZmlsZQ%3D%3D?line=2'>3</a>\u001b[0m     alpha_0Start \u001b[39m=\u001b[39m expectedZ[\u001b[39m-\u001b[39m\u001b[39m1\u001b[39m]\n\u001b[0;32m      <a href='vscode-notebook-cell:/c%3A/Users/magnu/Documents/GitHub/ModComp-bois/mainMagnus.ipynb#Y112sZmlsZQ%3D%3D?line=3'>4</a>\u001b[0m     nodes \u001b[39m=\u001b[39m np\u001b[39m.\u001b[39mconcatenate((observed_values,expectedZ\u001b[39m.\u001b[39mreshape(\u001b[39m1\u001b[39m,\u001b[39m203\u001b[39m)),axis\u001b[39m=\u001b[39m\u001b[39m1\u001b[39m)\n",
      "\u001b[1;32mc:\\Users\\magnu\\Documents\\GitHub\\ModComp-bois\\mainMagnus.ipynb Cell 32\u001b[0m in \u001b[0;36minference\u001b[1;34m(tree, alpha_0, variance_0, alpha, beta, variance)\u001b[0m\n\u001b[0;32m      <a href='vscode-notebook-cell:/c%3A/Users/magnu/Documents/GitHub/ModComp-bois/mainMagnus.ipynb#Y112sZmlsZQ%3D%3D?line=6'>7</a>\u001b[0m meanCovariance(tree\u001b[39m.\u001b[39ml,mean,covariance,alpha,beta,variance)\n\u001b[0;32m      <a href='vscode-notebook-cell:/c%3A/Users/magnu/Documents/GitHub/ModComp-bois/mainMagnus.ipynb#Y112sZmlsZQ%3D%3D?line=7'>8</a>\u001b[0m meanCovariance(tree\u001b[39m.\u001b[39mr,mean,covariance,alpha,beta,variance)\n\u001b[1;32m---> <a href='vscode-notebook-cell:/c%3A/Users/magnu/Documents/GitHub/ModComp-bois/mainMagnus.ipynb#Y112sZmlsZQ%3D%3D?line=9'>10</a>\u001b[0m J \u001b[39m=\u001b[39m np\u001b[39m.\u001b[39;49mlinalg\u001b[39m.\u001b[39;49mpinv(covariance)\n\u001b[0;32m     <a href='vscode-notebook-cell:/c%3A/Users/magnu/Documents/GitHub/ModComp-bois/mainMagnus.ipynb#Y112sZmlsZQ%3D%3D?line=10'>11</a>\u001b[0m h \u001b[39m=\u001b[39m np\u001b[39m.\u001b[39mmatmul(J,mean)\n\u001b[0;32m     <a href='vscode-notebook-cell:/c%3A/Users/magnu/Documents/GitHub/ModComp-bois/mainMagnus.ipynb#Y112sZmlsZQ%3D%3D?line=12'>13</a>\u001b[0m meanY \u001b[39m=\u001b[39m np\u001b[39m.\u001b[39mzeros(\u001b[39m203\u001b[39m)\n",
      "File \u001b[1;32m<__array_function__ internals>:180\u001b[0m, in \u001b[0;36mpinv\u001b[1;34m(*args, **kwargs)\u001b[0m\n",
      "File \u001b[1;32m~\\AppData\\Local\\Packages\\PythonSoftwareFoundation.Python.3.9_qbz5n2kfra8p0\\LocalCache\\local-packages\\Python39\\site-packages\\numpy\\linalg\\linalg.py:1990\u001b[0m, in \u001b[0;36mpinv\u001b[1;34m(a, rcond, hermitian)\u001b[0m\n\u001b[0;32m   1988\u001b[0m     \u001b[39mreturn\u001b[39;00m wrap(res)\n\u001b[0;32m   1989\u001b[0m a \u001b[39m=\u001b[39m a\u001b[39m.\u001b[39mconjugate()\n\u001b[1;32m-> 1990\u001b[0m u, s, vt \u001b[39m=\u001b[39m svd(a, full_matrices\u001b[39m=\u001b[39;49m\u001b[39mFalse\u001b[39;49;00m, hermitian\u001b[39m=\u001b[39;49mhermitian)\n\u001b[0;32m   1992\u001b[0m \u001b[39m# discard small singular values\u001b[39;00m\n\u001b[0;32m   1993\u001b[0m cutoff \u001b[39m=\u001b[39m rcond[\u001b[39m.\u001b[39m\u001b[39m.\u001b[39m\u001b[39m.\u001b[39m, newaxis] \u001b[39m*\u001b[39m amax(s, axis\u001b[39m=\u001b[39m\u001b[39m-\u001b[39m\u001b[39m1\u001b[39m, keepdims\u001b[39m=\u001b[39m\u001b[39mTrue\u001b[39;00m)\n",
      "File \u001b[1;32m<__array_function__ internals>:180\u001b[0m, in \u001b[0;36msvd\u001b[1;34m(*args, **kwargs)\u001b[0m\n",
      "File \u001b[1;32m~\\AppData\\Local\\Packages\\PythonSoftwareFoundation.Python.3.9_qbz5n2kfra8p0\\LocalCache\\local-packages\\Python39\\site-packages\\numpy\\linalg\\linalg.py:1648\u001b[0m, in \u001b[0;36msvd\u001b[1;34m(a, full_matrices, compute_uv, hermitian)\u001b[0m\n\u001b[0;32m   1645\u001b[0m         gufunc \u001b[39m=\u001b[39m _umath_linalg\u001b[39m.\u001b[39msvd_n_s\n\u001b[0;32m   1647\u001b[0m signature \u001b[39m=\u001b[39m \u001b[39m'\u001b[39m\u001b[39mD->DdD\u001b[39m\u001b[39m'\u001b[39m \u001b[39mif\u001b[39;00m isComplexType(t) \u001b[39melse\u001b[39;00m \u001b[39m'\u001b[39m\u001b[39md->ddd\u001b[39m\u001b[39m'\u001b[39m\n\u001b[1;32m-> 1648\u001b[0m u, s, vh \u001b[39m=\u001b[39m gufunc(a, signature\u001b[39m=\u001b[39;49msignature, extobj\u001b[39m=\u001b[39;49mextobj)\n\u001b[0;32m   1649\u001b[0m u \u001b[39m=\u001b[39m u\u001b[39m.\u001b[39mastype(result_t, copy\u001b[39m=\u001b[39m\u001b[39mFalse\u001b[39;00m)\n\u001b[0;32m   1650\u001b[0m s \u001b[39m=\u001b[39m s\u001b[39m.\u001b[39mastype(_realType(result_t), copy\u001b[39m=\u001b[39m\u001b[39mFalse\u001b[39;00m)\n",
      "File \u001b[1;32m~\\AppData\\Local\\Packages\\PythonSoftwareFoundation.Python.3.9_qbz5n2kfra8p0\\LocalCache\\local-packages\\Python39\\site-packages\\numpy\\linalg\\linalg.py:97\u001b[0m, in \u001b[0;36m_raise_linalgerror_svd_nonconvergence\u001b[1;34m(err, flag)\u001b[0m\n\u001b[0;32m     96\u001b[0m \u001b[39mdef\u001b[39;00m \u001b[39m_raise_linalgerror_svd_nonconvergence\u001b[39m(err, flag):\n\u001b[1;32m---> 97\u001b[0m     \u001b[39mraise\u001b[39;00m LinAlgError(\u001b[39m\"\u001b[39m\u001b[39mSVD did not converge\u001b[39m\u001b[39m\"\u001b[39m)\n",
      "\u001b[1;31mLinAlgError\u001b[0m: SVD did not converge"
     ]
    }
   ],
   "source": [
    "for i in range(0, 10):\n",
    "    expectedZ, Ignore = inference(tree, alpha_0Pred,variance_0Pred,alphaPred,betaPred,variancePred)\n",
    "    alpha_0Start = expectedZ[-1]\n",
    "    nodes = np.concatenate((observed_values,expectedZ.reshape(1,203)),axis=1)\n",
    "    alphaPred = regAlpha.predict(nodes)\n",
    "    betaPred = regBeta.predict(nodes)\n",
    "    variancePred = np.max(regVariance.predict(nodes),0)\n",
    "    print((alphaPred,betaPred,variancePred))"
   ]
  }
 ],
 "metadata": {
  "kernelspec": {
   "display_name": "Python 3",
   "language": "python",
   "name": "python3"
  },
  "language_info": {
   "codemirror_mode": {
    "name": "ipython",
    "version": 3
   },
   "file_extension": ".py",
   "mimetype": "text/x-python",
   "name": "python",
   "nbconvert_exporter": "python",
   "pygments_lexer": "ipython3",
   "version": "3.9.13"
  },
  "orig_nbformat": 4
 },
 "nbformat": 4,
 "nbformat_minor": 2
}
