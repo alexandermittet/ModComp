{
 "cells": [
  {
   "cell_type": "code",
   "execution_count": 1,
   "metadata": {},
   "outputs": [],
   "source": [
    "import time\n",
    "import numpy as np\n",
    "import pandas as pd\n",
    "import matplotlib.pyplot as plt\n",
    "from sklearn.model_selection import train_test_split\n",
    "from sklearn.linear_model import LinearRegression\n",
    "from sklearn.metrics import mean_squared_error, r2_score"
   ]
  },
  {
   "cell_type": "code",
   "execution_count": 2,
   "metadata": {},
   "outputs": [],
   "source": [
    "def create_graph(df) -> dict:\n",
    "    \"\"\"\n",
    "    returns a didct with keys = node key, and values = edges (node_id, edge weight) \n",
    "    \"\"\"\n",
    "    tree = {}\n",
    "    for _, row in df.iterrows():\n",
    "        parent = row['Parent']\n",
    "        child = row['Child']\n",
    "        weight = row['t']\n",
    "\n",
    "        # root node\n",
    "        if pd.isna(parent): \n",
    "            continue\n",
    "        # node already exists\n",
    "        elif parent in tree: \n",
    "            tree[parent].append((child, weight))\n",
    "        # node does not exists\n",
    "        else:\n",
    "            tree[parent] = [(child, weight)]\n",
    "    return tree\n",
    "\n",
    "\n",
    "def pd_z0():\n",
    "    return max(np.random.normal(alpha_0, np.sqrt(variance_0)), 1)\n",
    "\n",
    "\n",
    "def cpd(z, t):\n",
    "    mean = gamma_0 + (alpha * t) + (beta * z) + (gamma * t * z)\n",
    "    var = variance * t\n",
    "    return max(np.random.normal(mean, np.sqrt(var)), 1)\n",
    "\n",
    "\n",
    "def simulation(root: int, z0: float, graph: dict) -> dict:\n",
    "    \"\"\"\n",
    "    BFS\n",
    "    returns z value for all 407 nodes\n",
    "    \"\"\"\n",
    "    results = {root: z0}  # init results with root=z0\n",
    "    queue = [(root, z0)]\n",
    "\n",
    "    while queue:\n",
    "        node, z = queue.pop(0)\n",
    "        results[node] = z\n",
    "        \n",
    "        children = graph.get(node, [])\n",
    "\n",
    "        if not children:\n",
    "            continue\n",
    "        else:\n",
    "            for child in children:\n",
    "                id, t = child\n",
    "                queue.append((id, cpd(z, t)))\n",
    "\n",
    "    return results\n",
    "\n",
    "\n",
    "def n_simulations(n:int, root:int, graph:dict):\n",
    "    \"\"\"\n",
    "    only returns values for X_i ... X_204 \n",
    "    \"\"\"\n",
    "    X, y = [], []\n",
    "\n",
    "    for i in range(n):\n",
    "        z0 = pd_z0()\n",
    "        x = simulation(root, z0, graph)\n",
    "        \n",
    "        X.append([x.get(i) for i in range(1, 205)])  # get the z values for X_1 to X_204 only\n",
    "        y.append(z0)\n",
    " \n",
    "    return np.array(X), np.array(y)\n",
    "\n",
    "\n",
    "def dfs_paths_with_cpd(graph, start_node, z, path=None):\n",
    "    # returns all paths and the gene length at each node in the path\n",
    "    if path is None:\n",
    "        path = [(start_node, z)]\n",
    "\n",
    "    if start_node not in graph:\n",
    "        return [path]\n",
    "\n",
    "    paths = []\n",
    "    for child, t in graph[start_node]:\n",
    "        if child not in [node for node, _ in path]:\n",
    "            new_z = cpd(z, t)\n",
    "            child_paths = dfs_paths_with_cpd(graph, child, new_z, path + [(child, new_z)])\n",
    "            paths.extend(child_paths)\n",
    "\n",
    "    return paths"
   ]
  },
  {
   "cell_type": "code",
   "execution_count": 3,
   "metadata": {},
   "outputs": [],
   "source": [
    "# load data\n",
    "tree_data = pd.read_csv('data/tree.csv')\n",
    "genes_data = pd.read_csv('data/vert_genes.csv')\n",
    "\n",
    "# remove root node, since we already have reference to it from else where. unless issue with t?\n",
    "tree_data = tree_data[tree_data['Parent'].notna()]\n",
    "\n",
    "# convert parent col to ints\n",
    "tree_data['Parent'] = tree_data['Parent'].astype(int)"
   ]
  },
  {
   "cell_type": "code",
   "execution_count": 4,
   "metadata": {},
   "outputs": [],
   "source": [
    "# gamma_0 + (alpha * time) (beta * parent gene len) + (gamma * time * parent gene len)\n",
    "\n",
    "# Parameters\n",
    "# for Z_0\n",
    "alpha_0 = 50000\n",
    "variance_0 = 5000\n",
    "\n",
    "# for Z_i and X_i\n",
    "alpha = 0.15\n",
    "beta = 1.05\n",
    "variance = 2500 \n",
    "\n",
    "# for conditional mean with the gamma influence \n",
    "gamma_0 = 3\n",
    "gamma = 0.01\n",
    "\n",
    "# Settings\n",
    "root = 407\n",
    "num_of_samples = 10000\n",
    "\n",
    "# create a dict graph\n",
    "graph = create_graph(tree_data)"
   ]
  },
  {
   "cell_type": "code",
   "execution_count": 5,
   "metadata": {},
   "outputs": [
    {
     "name": "stdout",
     "output_type": "stream",
     "text": [
      "15.5590527058 sec\n"
     ]
    }
   ],
   "source": [
    "# Create data\n",
    "t0 = time.time()\n",
    "X, y = n_simulations(n=num_of_samples, root=root, graph=graph)\n",
    "runtime = time.time() - t0\n",
    "print(f\"{runtime:.10f} sec\")"
   ]
  },
  {
   "cell_type": "code",
   "execution_count": 6,
   "metadata": {},
   "outputs": [
    {
     "name": "stdout",
     "output_type": "stream",
     "text": [
      "TRAIN. r2: 0.415, MSE: 2860.665\n",
      "TEST. r2: 0.375, MSE: 3117.892\n"
     ]
    }
   ],
   "source": [
    "# lin reg\n",
    "X_train, X_test, y_train, y_test = train_test_split(X, y, test_size=0.2)\n",
    "reg = LinearRegression().fit(X_train, y_train)\n",
    "\n",
    "# Train results\n",
    "yt_pred = reg.predict(X_train)\n",
    "train_r2 = reg.score(X_train, y_train)\n",
    "train_mse = mean_squared_error(y_train, yt_pred)\n",
    "\n",
    "# Test results\n",
    "y_pred = reg.predict(X_test)\n",
    "test_r2 = r2_score(y_test, y_pred)\n",
    "test_mse = mean_squared_error(y_test, y_pred)\n",
    "\n",
    "print(f\"TRAIN. r2: {train_r2:.3f}, MSE: {train_mse:.3f}\")\n",
    "print(f\"TEST. r2: {test_r2:.3f}, MSE: {test_mse:.3f}\")"
   ]
  },
  {
   "cell_type": "code",
   "execution_count": 7,
   "metadata": {},
   "outputs": [
    {
     "data": {
      "image/png": "[encoded data removed]",
      "text/plain": [
       "<Figure size 432x288 with 1 Axes>"
      ]
     },
     "metadata": {
      "needs_background": "light"
     },
     "output_type": "display_data"
    }
   ],
   "source": [
    "plt.hist(X.flatten(), bins=int(num_of_samples/10))\n",
    "\n",
    "plt.xlabel('Gene length')\n",
    "plt.ylabel('Frequency')\n",
    "plt.title(f'Histogram of gene lengths, runs: {num_of_samples}')\n",
    "plt.show()"
   ]
  },
  {
   "cell_type": "code",
   "execution_count": 8,
   "metadata": {},
   "outputs": [
    {
     "data": {
      "image/png": "[encoded data removed]",
      "text/plain": [
       "<Figure size 432x288 with 1 Axes>"
      ]
     },
     "metadata": {
      "needs_background": "light"
     },
     "output_type": "display_data"
    }
   ],
   "source": [
    "# all paths with their respective z values at each node in the path\n",
    "paths_with_z = dfs_paths_with_cpd(graph=graph, start_node=407, z=pd_z0())\n",
    "\n",
    "# plot development of gene length for all paths\n",
    "# longest = max(paths_with_z, key=len)  # plot the path with the most ancestors\n",
    "for index, path in enumerate(paths_with_z):\n",
    "    ys = [y[1] for y in path]\n",
    "    plt.scatter(range(len(ys)), ys)\n",
    "\n",
    "plt.xlabel('number of ancestors at node')\n",
    "plt.ylabel('gene lengths')\n",
    "plt.title('Development of gene length over ancestor nodes')\n",
    "plt.show()"
   ]
  },
  {
   "cell_type": "code",
   "execution_count": 9,
   "metadata": {},
   "outputs": [],
   "source": [
    "# load data\n",
    "treedat = pd.read_csv('data/tree.csv')\n",
    "genesdat = pd.read_csv('data/vert_genes.csv')"
   ]
  },
  {
   "cell_type": "code",
   "execution_count": 10,
   "metadata": {},
   "outputs": [
    {
     "data": {
      "text/plain": [
       "205"
      ]
     },
     "execution_count": 10,
     "metadata": {},
     "output_type": "execute_result"
    }
   ],
   "source": [
    "# 205 from the nan present\n",
    "len(treedat['species'].unique())"
   ]
  },
  {
   "cell_type": "code",
   "execution_count": 11,
   "metadata": {},
   "outputs": [
    {
     "data": {
      "text/plain": [
       "204"
      ]
     },
     "execution_count": 11,
     "metadata": {},
     "output_type": "execute_result"
    }
   ],
   "source": [
    "len(genesdat['species'].unique())"
   ]
  },
  {
   "cell_type": "code",
   "execution_count": 12,
   "metadata": {},
   "outputs": [
    {
     "data": {
      "text/plain": [
       "10"
      ]
     },
     "execution_count": 12,
     "metadata": {},
     "output_type": "execute_result"
    }
   ],
   "source": [
    "len(genesdat['orthId'].unique())"
   ]
  },
  {
   "cell_type": "code",
   "execution_count": 13,
   "metadata": {},
   "outputs": [
    {
     "data": {
      "text/plain": [
       "False"
      ]
     },
     "execution_count": 13,
     "metadata": {},
     "output_type": "execute_result"
    }
   ],
   "source": [
    "# group species by the orthid\n",
    "grouped = genesdat.groupby('orthId')['species'].agg(list).reset_index()\n",
    "grouped['species'][4] == grouped['species'][2]"
   ]
  },
  {
   "cell_type": "code",
   "execution_count": 14,
   "metadata": {},
   "outputs": [
    {
     "data": {
      "text/plain": [
       "['Acanthisitta_chloris',\n",
       " 'Anas_platyrhynchos',\n",
       " 'Anser_cygnoides',\n",
       " 'Apaloderma_vittatum',\n",
       " 'Aptenodytes_forsteri',\n",
       " 'Apteryx_australis',\n",
       " 'Aquila_chrysaetos',\n",
       " 'Balearica_regulorum',\n",
       " 'Buceros_rhinoceros',\n",
       " 'Calidris_pugnax',\n",
       " 'Calypte_anna',\n",
       " 'Caprimulgus_carolinensis',\n",
       " 'Cariama_cristata',\n",
       " 'Chaetura_pelagica',\n",
       " 'Charadrius_vociferus',\n",
       " 'Chlamydotis_macqueenii',\n",
       " 'Colius_striatus',\n",
       " 'Columba_livia',\n",
       " 'Corvus_brachyrhynchos',\n",
       " 'Corvus_cornix',\n",
       " 'Coturnix_japonica',\n",
       " 'Cuculus_canorus',\n",
       " 'Egretta_garzetta',\n",
       " 'Eurypyga_helias',\n",
       " 'Falco_cherrug',\n",
       " 'Falco_peregrinus',\n",
       " 'Ficedula_albicollis',\n",
       " 'Fulmarus_glacialis',\n",
       " 'Gallus_gallus',\n",
       " 'Gavia_stellata',\n",
       " 'Geospiza_fortis',\n",
       " 'Haliaeetus_albicilla',\n",
       " 'Haliaeetus_leucocephalus',\n",
       " 'Lepidothrix_coronata',\n",
       " 'Leptosomus_discolor',\n",
       " 'Meleagris_gallopavo',\n",
       " 'Melopsittacus_undulatus',\n",
       " 'Merops_nubicus',\n",
       " 'Mesitornis_unicolor',\n",
       " 'Nestor_notabilis',\n",
       " 'Nipponia_nippon',\n",
       " 'Opisthocomus_hoazin',\n",
       " 'Parus_major',\n",
       " 'Pelecanus_crispus',\n",
       " 'Phaethon_lepturus',\n",
       " 'Phalacrocorax_carbo',\n",
       " 'Picoides_pubescens',\n",
       " 'Pseudopodoces_humilis',\n",
       " 'Pterocles_gutturalis',\n",
       " 'Pygoscelis_adeliae',\n",
       " 'Serinus_canaria',\n",
       " 'Struthio_camelus',\n",
       " 'Sturnus_vulgaris',\n",
       " 'Taeniopygia_guttata',\n",
       " 'Tauraco_erythrolophus',\n",
       " 'Tinamus_guttatus',\n",
       " 'Tyto_alba',\n",
       " 'Astyanax_mexicanus',\n",
       " 'Austrofundulus_limnaeus',\n",
       " 'Clupea_harengus',\n",
       " 'Cynoglossus_semilaevis',\n",
       " 'Cyprinodon_variegatus',\n",
       " 'Danio_rerio',\n",
       " 'Esox_lucius',\n",
       " 'Fundulus_heteroclitus',\n",
       " 'Haplochromis_burtoni',\n",
       " 'Ictalurus_punctatus',\n",
       " 'Kryptolebias_marmoratus',\n",
       " 'Larimichthys_crocea',\n",
       " 'Lates_calcarifer',\n",
       " 'Lepisosteus_oculatus',\n",
       " 'Maylandia_zebra',\n",
       " 'Neolamprologus_brichardi',\n",
       " 'Nothobranchius_furzeri',\n",
       " 'Notothenia_coriiceps',\n",
       " 'Oreochromis_niloticus',\n",
       " 'Oryzias_latipes',\n",
       " 'Poecilia_formosa',\n",
       " 'Poecilia_latipinna',\n",
       " 'Poecilia_mexicana',\n",
       " 'Poecilia_reticulata',\n",
       " 'Pundamilia_nyererei',\n",
       " 'Pygocentrus_nattereri',\n",
       " 'Salmo_salar',\n",
       " 'Scleropages_formosus',\n",
       " 'Sinocyclocheilus_anshuiensis',\n",
       " 'Sinocyclocheilus_grahami',\n",
       " 'Sinocyclocheilus_rhinocerous',\n",
       " 'Stegastes_partitus',\n",
       " 'Takifugu_rubripes',\n",
       " 'Xiphophorus_maculatus',\n",
       " 'Acinonyx_jubatus',\n",
       " 'Ailuropoda_melanoleuca',\n",
       " 'Aotus_nancymaae',\n",
       " 'Balaenoptera_acutorostrata',\n",
       " 'Bison_bison',\n",
       " 'Bos_mutus',\n",
       " 'Bos_taurus',\n",
       " 'Bubalus_bubalis',\n",
       " 'Callithrix_jacchus',\n",
       " 'Camelus_bactrianus',\n",
       " 'Camelus_dromedarius',\n",
       " 'Camelus_ferus',\n",
       " 'Canis_lupus',\n",
       " 'Capra_hircus',\n",
       " 'Carlito_syrichta',\n",
       " 'Cavia_porcellus',\n",
       " 'Cebus_capucinus',\n",
       " 'Ceratotherium_simum',\n",
       " 'Cercocebus_atys',\n",
       " 'Chinchilla_lanigera',\n",
       " 'Chlorocebus_sabaeus',\n",
       " 'Chrysochloris_asiatica',\n",
       " 'Colobus_angolensis',\n",
       " 'Condylura_cristata',\n",
       " 'Cricetulus_griseus',\n",
       " 'Dasypus_novemcinctus',\n",
       " 'Dipodomys_ordii',\n",
       " 'Echinops_telfairi',\n",
       " 'Elephantulus_edwardii',\n",
       " 'Eptesicus_fuscus',\n",
       " 'Equus_asinus',\n",
       " 'Equus_caballus',\n",
       " 'Equus_przewalskii',\n",
       " 'Erinaceus_europaeus',\n",
       " 'Felis_catus',\n",
       " 'Fukomys_damarensis',\n",
       " 'Galeopterus_variegatus',\n",
       " 'Gorilla_gorilla',\n",
       " 'Heterocephalus_glaber',\n",
       " 'Homo_sapiens',\n",
       " 'Ictidomys_tridecemlineatus',\n",
       " 'Jaculus_jaculus',\n",
       " 'Leptonychotes_weddellii',\n",
       " 'Lipotes_vexillifer',\n",
       " 'Loxodonta_africana',\n",
       " 'Macaca_fascicularis',\n",
       " 'Macaca_mulatta',\n",
       " 'Macaca_nemestrina',\n",
       " 'Manacus_vitellinus',\n",
       " 'Mandrillus_leucophaeus',\n",
       " 'Manis_javanica',\n",
       " 'Marmota_marmota',\n",
       " 'Mesocricetus_auratus',\n",
       " 'Microcebus_murinus',\n",
       " 'Microtus_ochrogaster',\n",
       " 'Miniopterus_natalensis',\n",
       " 'Monodelphis_domestica',\n",
       " 'Mus_musculus',\n",
       " 'Mustela_putorius',\n",
       " 'Myotis_brandtii',\n",
       " 'Myotis_davidii',\n",
       " 'Myotis_lucifugus',\n",
       " 'Nannospalax_galili',\n",
       " 'Nomascus_leucogenys',\n",
       " 'Ochotona_princeps',\n",
       " 'Octodon_degus',\n",
       " 'Odobenus_rosmarus',\n",
       " 'Orcinus_orca',\n",
       " 'Ornithorhynchus_anatinus',\n",
       " 'Orycteropus_afer',\n",
       " 'Oryctolagus_cuniculus',\n",
       " 'Otolemur_garnettii',\n",
       " 'Ovis_aries',\n",
       " 'Pan_paniscus',\n",
       " 'Pan_troglodytes',\n",
       " 'Panthera_tigris',\n",
       " 'Pantholops_hodgsonii',\n",
       " 'Papio_anubis',\n",
       " 'Peromyscus_maniculatus',\n",
       " 'Physeter_catodon',\n",
       " 'Pongo_abelii',\n",
       " 'Propithecus_coquereli',\n",
       " 'Pteropus_alecto',\n",
       " 'Pteropus_vampyrus',\n",
       " 'Rattus_norvegicus',\n",
       " 'Rhinopithecus_bieti',\n",
       " 'Rhinopithecus_roxellana',\n",
       " 'Rousettus_aegyptiacus',\n",
       " 'Saimiri_boliviensis',\n",
       " 'Sarcophilus_harrisii',\n",
       " 'Sorex_araneus',\n",
       " 'Sus_scrofa',\n",
       " 'Trichechus_manatus',\n",
       " 'Tupaia_chinensis',\n",
       " 'Tursiops_truncatus',\n",
       " 'Ursus_maritimus',\n",
       " 'Vicugna_pacos',\n",
       " 'Alligator_mississippiensis',\n",
       " 'Alligator_sinensis',\n",
       " 'Anolis_carolinensis',\n",
       " 'Callorhinchus_milii',\n",
       " 'Chelonia_mydas',\n",
       " 'Chrysemys_picta',\n",
       " 'Gekko_japonicus',\n",
       " 'Latimeria_chalumnae',\n",
       " 'Nanorana_parkeri',\n",
       " 'Pelodiscus_sinensis',\n",
       " 'Protobothrops_mucrosquamatus',\n",
       " 'Python_bivittatus',\n",
       " 'Thamnophis_sirtalis',\n",
       " 'Xenopus_laevis',\n",
       " 'Xenopus_tropicalis']"
      ]
     },
     "execution_count": 14,
     "metadata": {},
     "output_type": "execute_result"
    }
   ],
   "source": [
    "grouped['species'][0]  # gene 0"
   ]
  },
  {
   "cell_type": "code",
   "execution_count": null,
   "metadata": {},
   "outputs": [],
   "source": []
  }
 ],
 "metadata": {
  "kernelspec": {
   "display_name": "Python 3",
   "language": "python",
   "name": "python3"
  },
  "language_info": {
   "codemirror_mode": {
    "name": "ipython",
    "version": 3
   },
   "file_extension": ".py",
   "mimetype": "text/x-python",
   "name": "python",
   "nbconvert_exporter": "python",
   "pygments_lexer": "ipython3",
   "version": "3.9.13"
  },
  "orig_nbformat": 4
 },
 "nbformat": 4,
 "nbformat_minor": 2
}
