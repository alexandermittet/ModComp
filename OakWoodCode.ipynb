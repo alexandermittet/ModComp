{
 "cells": [
  {
   "attachments": {},
   "cell_type": "markdown",
   "metadata": {},
   "source": [
    "ModComp Notebook!"
   ]
  },
  {
   "cell_type": "code",
   "execution_count": 116,
   "metadata": {},
   "outputs": [],
   "source": [
    "import numpy as np\n",
    "#det her er noget test kode jeg, Magnus Ejegod Bugge (den Tredje), \n",
    "#skrev for at prøve at lave det som et træ, men tror at Jonathans (den Første) kode er bedre"
   ]
  },
  {
   "cell_type": "code",
   "execution_count": 117,
   "metadata": {},
   "outputs": [],
   "source": [
    "alpha0 = 50000\n",
    "variance0 = 5000\n",
    "deviation0 = np.sqrt(variance0)\n",
    "alpha = 0\n",
    "beta = 1\n",
    "variance = 2500\n",
    "deviation = np.sqrt(variance)\n",
    "size = 1"
   ]
  },
  {
   "cell_type": "code",
   "execution_count": 147,
   "metadata": {},
   "outputs": [],
   "source": [
    "class Node:\n",
    "    def __init__(self,index,tree):\n",
    "        \n",
    "        self.id = tree[index,1]\n",
    "        self.age_ch = tree[index,2]\n",
    "        self.t = tree[index,3]\n",
    "        self.species = tree[index,4]\n",
    "        if tree[index,0] != 'NA':\n",
    "            indexOfParent = np.where(tree[:,1]==tree[index,0])[0][0]\n",
    "            self.parent = Node(indexOfParent,tree)\n",
    "        else:\n",
    "            self.parent = 'NA'\n",
    "    def PrintTree(self):\n",
    "        print(self.parent.id, self.id, self.age_ch, self.t, self.species)\n",
    "\n",
    "    '''def insert(self, data):\n",
    "        self.parent = data[0]\n",
    "        if self.left == None:\n",
    "            self.left = data[1]\n",
    "        else:\n",
    "            self.right = data[1]\n",
    "            self.age_ch = data[2]\n",
    "            self.t = data[3]\n",
    "            self.species = data[4]\n",
    "'''\n"
   ]
  },
  {
   "cell_type": "code",
   "execution_count": 149,
   "metadata": {},
   "outputs": [
    {
     "name": "stdout",
     "output_type": "stream",
     "text": [
      "[]\n"
     ]
    }
   ],
   "source": [
    "z0 = np.random.normal(alpha0, deviation0, size)\n",
    "tree = np.delete(np.loadtxt(\"./data/tree.csv\", dtype=str, delimiter=\",\"),0,0)\n",
    "\n",
    "a = np.array([])\n",
    "for i in range(0,204):\n",
    "    b = Node(i,tree)\n",
    "    a = np.append(a,b)\n",
    "\n",
    "print(a[0].parent.children)\n",
    "\n",
    "\n",
    "\n"
   ]
  }
 ],
 "metadata": {
  "kernelspec": {
   "display_name": "Python 3",
   "language": "python",
   "name": "python3"
  },
  "language_info": {
   "codemirror_mode": {
    "name": "ipython",
    "version": 3
   },
   "file_extension": ".py",
   "mimetype": "text/x-python",
   "name": "python",
   "nbconvert_exporter": "python",
   "pygments_lexer": "ipython3",
   "version": "3.9.13"
  },
  "orig_nbformat": 4,
  "vscode": {
   "interpreter": {
    "hash": "eef8b30d146591e66035d1a4999d97f24568eacd6b6d83634a9e0781b5722fc5"
   }
  }
 },
 "nbformat": 4,
 "nbformat_minor": 2
}
