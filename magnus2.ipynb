{
 "cells": [
  {
   "cell_type": "code",
   "execution_count": null,
   "metadata": {},
   "outputs": [],
   "source": [
    "import time\n",
    "import numpy as np\n",
    "import pandas as pd\n",
    "import matplotlib.pyplot as plt\n",
    "from sklearn.model_selection import train_test_split\n",
    "from sklearn.linear_model import LinearRegression\n",
    "from sklearn.metrics import mean_squared_error, r2_score"
   ]
  },
  {
   "cell_type": "code",
   "execution_count": null,
   "metadata": {},
   "outputs": [],
   "source": [
    "# load data\n",
    "tree_data = pd.read_csv('data/tree.csv')\n",
    "genes_data = pd.read_csv('data/vert_genes.csv')\n",
    "\n",
    "print(tree_data)\n",
    "\n"
   ]
  },
  {
   "cell_type": "code",
   "execution_count": null,
   "metadata": {},
   "outputs": [],
   "source": [
    "class Node:\n",
    "    def __init__(self,data):\n",
    "        self.l = None\n",
    "        self.r = None\n",
    "        self.data = data\n"
   ]
  },
  {
   "cell_type": "code",
   "execution_count": null,
   "metadata": {},
   "outputs": [],
   "source": [
    "def create_tree(root):\n",
    "    children = tree_data[tree_data['Parent']==root]\n",
    "    node = Node(tree_data[tree_data['Child']==root])\n",
    "    if len(children)>0:\n",
    "        for i in range(0, len(children)):\n",
    "            if i == 0:\n",
    "                node.l = create_tree(children.iloc[1].iloc[1])\n",
    "            else:\n",
    "                node.r = create_tree(children.iloc[0].iloc[1])\n",
    "        return node\n",
    "    else:\n",
    "        return node\n",
    "\n"
   ]
  },
  {
   "cell_type": "code",
   "execution_count": null,
   "metadata": {},
   "outputs": [],
   "source": [
    "# gamma_0 + (alpha * time) (beta * parent gene len) + (gamma * time * parent gene len)\n",
    "\n",
    "# Parameters\n",
    "# for Z_0\n",
    "alpha_0 = 50000\n",
    "variance_0 = 5000\n",
    "\n",
    "# for Z_i and X_i\n",
    "alpha = 0\n",
    "beta = 1\n",
    "variance = 2500 \n",
    "\n",
    "# for conditional mean with the gamma influence \n",
    "gamma_0 = 3\n",
    "gamma = 0.01\n",
    "\n",
    "'''tree_data['Mean'] = np.zeros(407)\n",
    "tree_data['Variance'] = np.zeros(407)'''\n",
    "\n",
    "'''tree_data['Mean'][406] = alpha_0\n",
    "tree_data['Variance'][406] = variance_0'''\n",
    "\n",
    "print(tree_data)\n",
    "#tree = create_tree(407)"
   ]
  }
 ],
 "metadata": {
  "kernelspec": {
   "display_name": "Python 3",
   "language": "python",
   "name": "python3"
  },
  "language_info": {
   "codemirror_mode": {
    "name": "ipython",
    "version": 3
   },
   "file_extension": ".py",
   "mimetype": "text/x-python",
   "name": "python",
   "nbconvert_exporter": "python",
   "pygments_lexer": "ipython3",
   "version": "3.9.13"
  },
  "orig_nbformat": 4
 },
 "nbformat": 4,
 "nbformat_minor": 2
}
